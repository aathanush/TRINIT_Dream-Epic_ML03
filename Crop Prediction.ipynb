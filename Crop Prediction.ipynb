{
 "cells": [
  {
   "cell_type": "code",
   "execution_count": 1,
   "id": "5136bc2f",
   "metadata": {},
   "outputs": [],
   "source": [
    "import pandas as pd\n",
    "import matplotlib.pyplot as plt\n",
    "import numpy as np\n",
    "import sklearn\n",
    "import torch"
   ]
  },
  {
   "cell_type": "markdown",
   "id": "6bf29009",
   "metadata": {},
   "source": [
    "### Problem Statement:\n",
    "\n",
    "Predicting the optimal crop that could be grown in a particular location based on the\n",
    "soil composition, rainfall, temperature and return of investment is essential for any\n",
    "farmer of the modern world. This could not only save farmers from spending extra\n",
    "money on fertilizers but also avoid the dangerous practice of growing the same crops\n",
    "on the same patch of land repeatedly, which depletes the solid from its natural\n",
    "resources.\n",
    "\n",
    "#### given dataset links:\n",
    "\n",
    "1) https://www.kaggle.com/datasets/thammuio/all-agriculture-related-datasets-for-india\n",
    "\n",
    "2) https://www.kaggle.com/datasets/vanvalkenberg/historicalweatherdataforindiancities\n",
    "\n",
    "3) https://www.kaggle.com/datasets/atharvaingle/crop-recommendation-dataset\n",
    "\n",
    "4) https://www.kaggle.com/datasets/vanvalkenberg/historicalweatherdataforindiancities\n",
    "\n",
    "5) https://www.kaggle.com/datasets/rajanand/rainfall-in-india\n",
    "\n"
   ]
  },
  {
   "cell_type": "code",
   "execution_count": null,
   "id": "d669f0ba",
   "metadata": {},
   "outputs": [],
   "source": []
  }
 ],
 "metadata": {
  "kernelspec": {
   "display_name": "Python 3 (ipykernel)",
   "language": "python",
   "name": "python3"
  },
  "language_info": {
   "codemirror_mode": {
    "name": "ipython",
    "version": 3
   },
   "file_extension": ".py",
   "mimetype": "text/x-python",
   "name": "python",
   "nbconvert_exporter": "python",
   "pygments_lexer": "ipython3",
   "version": "3.9.7"
  }
 },
 "nbformat": 4,
 "nbformat_minor": 5
}
