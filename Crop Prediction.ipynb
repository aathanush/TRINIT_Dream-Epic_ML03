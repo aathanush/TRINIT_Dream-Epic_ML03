{
 "cells": [
  {
   "cell_type": "code",
   "execution_count": 54,
   "id": "5136bc2f",
   "metadata": {},
   "outputs": [],
   "source": [
    "import pandas as pd\n",
    "import matplotlib.pyplot as plt\n",
    "import numpy as np\n",
    "import sklearn\n",
    "import seaborn as sns\n",
    "import torch"
   ]
  },
  {
   "cell_type": "markdown",
   "id": "6bf29009",
   "metadata": {},
   "source": [
    "### Problem Statement:\n",
    "\n",
    "Predicting the optimal crop that could be grown in a particular location based on the\n",
    "soil composition, rainfall, temperature and return of investment is essential for any\n",
    "farmer of the modern world. This could not only save farmers from spending extra\n",
    "money on fertilizers but also avoid the dangerous practice of growing the same crops\n",
    "on the same patch of land repeatedly, which depletes the solid from its natural\n",
    "resources.\n",
    "\n",
    "#### given dataset links:\n",
    "\n",
    "1) https://www.kaggle.com/datasets/thammuio/all-agriculture-related-datasets-for-india\n",
    "\n",
    "2) https://www.kaggle.com/datasets/vanvalkenberg/historicalweatherdataforindiancities\n",
    "\n",
    "3) https://www.kaggle.com/datasets/atharvaingle/crop-recommendation-dataset\n",
    "\n",
    "4) https://www.kaggle.com/datasets/rajanand/rainfall-in-india\n",
    "\n"
   ]
  },
  {
   "cell_type": "code",
   "execution_count": 3,
   "id": "d669f0ba",
   "metadata": {},
   "outputs": [],
   "source": [
    "df1=pd.read_csv(\"Crop_recommendation.csv\")"
   ]
  },
  {
   "cell_type": "code",
   "execution_count": 76,
   "id": "b2c7b96d",
   "metadata": {},
   "outputs": [
    {
     "data": {
      "text/plain": [
       "{'apple',\n",
       " 'banana',\n",
       " 'blackgram',\n",
       " 'chickpea',\n",
       " 'coconut',\n",
       " 'coffee',\n",
       " 'cotton',\n",
       " 'grapes',\n",
       " 'jute',\n",
       " 'kidneybeans',\n",
       " 'lentil',\n",
       " 'maize',\n",
       " 'mango',\n",
       " 'mothbeans',\n",
       " 'mungbean',\n",
       " 'muskmelon',\n",
       " 'orange',\n",
       " 'papaya',\n",
       " 'pigeonpeas',\n",
       " 'pomegranate',\n",
       " 'rice',\n",
       " 'watermelon'}"
      ]
     },
     "execution_count": 76,
     "metadata": {},
     "output_type": "execute_result"
    }
   ],
   "source": [
    "from sklearn.model_selection import train_test_split\n",
    "set(df1.label)"
   ]
  },
  {
   "cell_type": "code",
   "execution_count": 75,
   "id": "03df7857",
   "metadata": {},
   "outputs": [
    {
     "data": {
      "text/html": [
       "<div>\n",
       "<style scoped>\n",
       "    .dataframe tbody tr th:only-of-type {\n",
       "        vertical-align: middle;\n",
       "    }\n",
       "\n",
       "    .dataframe tbody tr th {\n",
       "        vertical-align: top;\n",
       "    }\n",
       "\n",
       "    .dataframe thead th {\n",
       "        text-align: right;\n",
       "    }\n",
       "</style>\n",
       "<table border=\"1\" class=\"dataframe\">\n",
       "  <thead>\n",
       "    <tr style=\"text-align: right;\">\n",
       "      <th></th>\n",
       "      <th>N</th>\n",
       "      <th>P</th>\n",
       "      <th>K</th>\n",
       "      <th>temperature</th>\n",
       "      <th>humidity</th>\n",
       "      <th>ph</th>\n",
       "      <th>rainfall</th>\n",
       "      <th>label</th>\n",
       "    </tr>\n",
       "  </thead>\n",
       "  <tbody>\n",
       "    <tr>\n",
       "      <th>1500</th>\n",
       "      <td>24</td>\n",
       "      <td>128</td>\n",
       "      <td>196</td>\n",
       "      <td>22.750888</td>\n",
       "      <td>90.694892</td>\n",
       "      <td>5.521467</td>\n",
       "      <td>110.431786</td>\n",
       "      <td>apple</td>\n",
       "    </tr>\n",
       "    <tr>\n",
       "      <th>1501</th>\n",
       "      <td>7</td>\n",
       "      <td>144</td>\n",
       "      <td>197</td>\n",
       "      <td>23.849401</td>\n",
       "      <td>94.348150</td>\n",
       "      <td>6.133221</td>\n",
       "      <td>114.051249</td>\n",
       "      <td>apple</td>\n",
       "    </tr>\n",
       "    <tr>\n",
       "      <th>1502</th>\n",
       "      <td>14</td>\n",
       "      <td>128</td>\n",
       "      <td>205</td>\n",
       "      <td>22.608010</td>\n",
       "      <td>94.589006</td>\n",
       "      <td>6.226290</td>\n",
       "      <td>116.039659</td>\n",
       "      <td>apple</td>\n",
       "    </tr>\n",
       "    <tr>\n",
       "      <th>1503</th>\n",
       "      <td>8</td>\n",
       "      <td>120</td>\n",
       "      <td>201</td>\n",
       "      <td>21.186674</td>\n",
       "      <td>91.134357</td>\n",
       "      <td>6.321152</td>\n",
       "      <td>122.233323</td>\n",
       "      <td>apple</td>\n",
       "    </tr>\n",
       "    <tr>\n",
       "      <th>1504</th>\n",
       "      <td>20</td>\n",
       "      <td>129</td>\n",
       "      <td>201</td>\n",
       "      <td>23.410447</td>\n",
       "      <td>91.699133</td>\n",
       "      <td>5.587906</td>\n",
       "      <td>116.077793</td>\n",
       "      <td>apple</td>\n",
       "    </tr>\n",
       "  </tbody>\n",
       "</table>\n",
       "</div>"
      ],
      "text/plain": [
       "       N    P    K  temperature   humidity        ph    rainfall  label\n",
       "1500  24  128  196    22.750888  90.694892  5.521467  110.431786  apple\n",
       "1501   7  144  197    23.849401  94.348150  6.133221  114.051249  apple\n",
       "1502  14  128  205    22.608010  94.589006  6.226290  116.039659  apple\n",
       "1503   8  120  201    21.186674  91.134357  6.321152  122.233323  apple\n",
       "1504  20  129  201    23.410447  91.699133  5.587906  116.077793  apple"
      ]
     },
     "execution_count": 75,
     "metadata": {},
     "output_type": "execute_result"
    }
   ],
   "source": [
    "df1[df1.label=='apple'].head()"
   ]
  },
  {
   "cell_type": "code",
   "execution_count": 61,
   "id": "072e12e4",
   "metadata": {},
   "outputs": [
    {
     "data": {
      "image/png": "[encoded data removed]",
      "text/plain": [
       "<Figure size 1800x648 with 1 Axes>"
      ]
     },
     "metadata": {
      "needs_background": "light"
     },
     "output_type": "display_data"
    }
   ],
   "source": [
    "plt.figure(figsize=(25,9))\n",
    "plt.bar(list(set(df1.label)),[list(df1['label']).count(i) for i in set(df1.label)])\n",
    "plt.show()\n",
    "# ALL CLASSES ARE PRESENT IN COMMON"
   ]
  },
  {
   "cell_type": "code",
   "execution_count": 22,
   "id": "3772276e",
   "metadata": {},
   "outputs": [],
   "source": [
    "from sklearn.preprocessing import LabelEncoder"
   ]
  },
  {
   "cell_type": "code",
   "execution_count": 28,
   "id": "0c8bfb2f",
   "metadata": {},
   "outputs": [],
   "source": [
    "le=LabelEncoder()\n",
    "X=df1.drop(inplace=False,columns=['label'])\n",
    "y=df1['label']\n",
    "y=le.fit_transform(y)\n"
   ]
  },
  {
   "cell_type": "code",
   "execution_count": 48,
   "id": "5e70225c",
   "metadata": {},
   "outputs": [
    {
     "data": {
      "text/plain": [
       "N              0\n",
       "P              0\n",
       "K              0\n",
       "temperature    0\n",
       "humidity       0\n",
       "ph             0\n",
       "rainfall       0\n",
       "label          0\n",
       "dtype: int64"
      ]
     },
     "execution_count": 48,
     "metadata": {},
     "output_type": "execute_result"
    }
   ],
   "source": [
    "df1.isnull().sum()"
   ]
  },
  {
   "cell_type": "code",
   "execution_count": 29,
   "id": "6b8f7723",
   "metadata": {},
   "outputs": [
    {
     "data": {
      "text/plain": [
       "array([20, 20, 20, ...,  5,  5,  5])"
      ]
     },
     "execution_count": 29,
     "metadata": {},
     "output_type": "execute_result"
    }
   ],
   "source": [
    "y"
   ]
  },
  {
   "cell_type": "code",
   "execution_count": 107,
   "id": "40b3b3a2",
   "metadata": {},
   "outputs": [],
   "source": [
    "from xgboost import XGBClassifier,XGBRegressor\n",
    "from interpret.glassbox import ExplainableBoostingClassifier,ExplainableBoostingRegressor"
   ]
  },
  {
   "cell_type": "code",
   "execution_count": 33,
   "id": "40f89360",
   "metadata": {},
   "outputs": [],
   "source": [
    "X_train,X_test,y_train,y_test=train_test_split(X,y,test_size=0.2,random_state=42)"
   ]
  },
  {
   "cell_type": "code",
   "execution_count": 34,
   "id": "22ee3780",
   "metadata": {},
   "outputs": [],
   "source": [
    "xgb=XGBClassifier()\n",
    "ebm=ExplainableBoostingClassifier()"
   ]
  },
  {
   "cell_type": "code",
   "execution_count": 35,
   "id": "9f5f034c",
   "metadata": {},
   "outputs": [
    {
     "name": "stderr",
     "output_type": "stream",
     "text": [
      "C:\\Users\\sutha\\anaconda3\\lib\\site-packages\\xgboost\\sklearn.py:1224: UserWarning: The use of label encoder in XGBClassifier is deprecated and will be removed in a future release. To remove this warning, do the following: 1) Pass option use_label_encoder=False when constructing XGBClassifier object; and 2) Encode your labels (y) as integers starting with 0, i.e. 0, 1, 2, ..., [num_class - 1].\n",
      "  warnings.warn(label_encoder_deprecation_msg, UserWarning)\n",
      "C:\\Users\\sutha\\anaconda3\\lib\\site-packages\\xgboost\\data.py:262: FutureWarning: pandas.Int64Index is deprecated and will be removed from pandas in a future version. Use pandas.Index with the appropriate dtype instead.\n",
      "  elif isinstance(data.columns, (pd.Int64Index, pd.RangeIndex)):\n"
     ]
    },
    {
     "name": "stdout",
     "output_type": "stream",
     "text": [
      "[23:21:29] WARNING: C:/Users/Administrator/workspace/xgboost-win64_release_1.5.1/src/learner.cc:1115: Starting in XGBoost 1.3.0, the default evaluation metric used with the objective 'multi:softprob' was changed from 'merror' to 'mlogloss'. Explicitly set eval_metric if you'd like to restore the old behavior.\n"
     ]
    },
    {
     "name": "stderr",
     "output_type": "stream",
     "text": [
      "C:\\Users\\sutha\\anaconda3\\lib\\site-packages\\interpret\\glassbox\\ebm\\ebm.py:568: UserWarning: Detected multiclass problem. Forcing interactions to 0. Multiclass interactions work except for global visualizations, so the line below setting interactions to zero can be disabled if you know what you are doing.\n",
      "  warn(\"Detected multiclass problem. Forcing interactions to 0. Multiclass interactions work except for global visualizations, so the line below setting interactions to zero can be disabled if you know what you are doing.\")\n"
     ]
    },
    {
     "data": {
      "text/plain": [
       "ExplainableBoostingClassifier()"
      ]
     },
     "execution_count": 35,
     "metadata": {},
     "output_type": "execute_result"
    }
   ],
   "source": [
    "xgb.fit(X_train,y_train)\n",
    "ebm.fit(X_train,y_train)"
   ]
  },
  {
   "cell_type": "code",
   "execution_count": 60,
   "id": "2bbcb723",
   "metadata": {},
   "outputs": [
    {
     "name": "stdout",
     "output_type": "stream",
     "text": [
      "XGBoost Classifier prediction accuracy: 0.990909090909091\n",
      "Explainable Boosting Classifier prediction accuracy: 0.9886363636363636\n"
     ]
    },
    {
     "name": "stderr",
     "output_type": "stream",
     "text": [
      "C:\\Users\\sutha\\anaconda3\\lib\\site-packages\\xgboost\\data.py:262: FutureWarning: pandas.Int64Index is deprecated and will be removed from pandas in a future version. Use pandas.Index with the appropriate dtype instead.\n",
      "  elif isinstance(data.columns, (pd.Int64Index, pd.RangeIndex)):\n"
     ]
    }
   ],
   "source": [
    "y_pred=xgb.predict(X_test)\n",
    "from sklearn.metrics import accuracy_score, confusion_matrix\n",
    "\n",
    "print(f\"XGBoost Classifier prediction accuracy: {accuracy_score(y_pred,y_test)}\")\n",
    "y_pred=ebm.predict(X_test)\n",
    "print(f\"Explainable Boosting Classifier prediction accuracy: {accuracy_score(y_pred,y_test)}\")"
   ]
  },
  {
   "cell_type": "code",
   "execution_count": 98,
   "id": "919916c6",
   "metadata": {},
   "outputs": [],
   "source": [
    "from sklearn.ensemble import RandomForestClassifier,RandomForestRegressor"
   ]
  },
  {
   "cell_type": "code",
   "execution_count": 59,
   "id": "195a9bf1",
   "metadata": {},
   "outputs": [
    {
     "name": "stdout",
     "output_type": "stream",
     "text": [
      "Random Forest Classifier prediction accuracy: 0.9931818181818182\n"
     ]
    }
   ],
   "source": [
    "rfc=RandomForestClassifier()\n",
    "rfc.fit(X_train,y_train)\n",
    "y_pred=rfc.predict(X_test)\n",
    "print(f\"Random Forest Classifier prediction accuracy: {accuracy_score(y_pred,y_test)}\")"
   ]
  },
  {
   "cell_type": "markdown",
   "id": "cc84841d",
   "metadata": {},
   "source": [
    "# Agricultural dataset "
   ]
  },
  {
   "cell_type": "code",
   "execution_count": 62,
   "id": "915f11b2",
   "metadata": {},
   "outputs": [],
   "source": [
    "df2=pd.read_csv(\"Indian_agriculture.csv\")"
   ]
  },
  {
   "cell_type": "code",
   "execution_count": 63,
   "id": "c9ba3c23",
   "metadata": {},
   "outputs": [
    {
     "data": {
      "text/html": [
       "<div>\n",
       "<style scoped>\n",
       "    .dataframe tbody tr th:only-of-type {\n",
       "        vertical-align: middle;\n",
       "    }\n",
       "\n",
       "    .dataframe tbody tr th {\n",
       "        vertical-align: top;\n",
       "    }\n",
       "\n",
       "    .dataframe thead th {\n",
       "        text-align: right;\n",
       "    }\n",
       "</style>\n",
       "<table border=\"1\" class=\"dataframe\">\n",
       "  <thead>\n",
       "    <tr style=\"text-align: right;\">\n",
       "      <th></th>\n",
       "      <th>state</th>\n",
       "      <th>district</th>\n",
       "      <th>market</th>\n",
       "      <th>commodity</th>\n",
       "      <th>variety</th>\n",
       "      <th>arrival_date</th>\n",
       "      <th>min_price</th>\n",
       "      <th>max_price</th>\n",
       "      <th>modal_price</th>\n",
       "    </tr>\n",
       "  </thead>\n",
       "  <tbody>\n",
       "    <tr>\n",
       "      <th>0</th>\n",
       "      <td>Andaman and Nicobar</td>\n",
       "      <td>South Andaman</td>\n",
       "      <td>Port Blair</td>\n",
       "      <td>Amaranthus</td>\n",
       "      <td>Amaranthus</td>\n",
       "      <td>04/03/2019</td>\n",
       "      <td>6000</td>\n",
       "      <td>8000</td>\n",
       "      <td>7000</td>\n",
       "    </tr>\n",
       "    <tr>\n",
       "      <th>1</th>\n",
       "      <td>Andaman and Nicobar</td>\n",
       "      <td>South Andaman</td>\n",
       "      <td>Port Blair</td>\n",
       "      <td>Banana - Green</td>\n",
       "      <td>Banana - Green</td>\n",
       "      <td>04/03/2019</td>\n",
       "      <td>4500</td>\n",
       "      <td>5500</td>\n",
       "      <td>5000</td>\n",
       "    </tr>\n",
       "    <tr>\n",
       "      <th>2</th>\n",
       "      <td>Andaman and Nicobar</td>\n",
       "      <td>South Andaman</td>\n",
       "      <td>Port Blair</td>\n",
       "      <td>Bhindi(Ladies Finger)</td>\n",
       "      <td>Bhindi</td>\n",
       "      <td>04/03/2019</td>\n",
       "      <td>6000</td>\n",
       "      <td>8000</td>\n",
       "      <td>7000</td>\n",
       "    </tr>\n",
       "    <tr>\n",
       "      <th>3</th>\n",
       "      <td>Andaman and Nicobar</td>\n",
       "      <td>South Andaman</td>\n",
       "      <td>Port Blair</td>\n",
       "      <td>Bitter gourd</td>\n",
       "      <td>Other</td>\n",
       "      <td>04/03/2019</td>\n",
       "      <td>6000</td>\n",
       "      <td>8000</td>\n",
       "      <td>7000</td>\n",
       "    </tr>\n",
       "    <tr>\n",
       "      <th>4</th>\n",
       "      <td>Andaman and Nicobar</td>\n",
       "      <td>South Andaman</td>\n",
       "      <td>Port Blair</td>\n",
       "      <td>Black pepper</td>\n",
       "      <td>Other</td>\n",
       "      <td>04/03/2019</td>\n",
       "      <td>110000</td>\n",
       "      <td>130000</td>\n",
       "      <td>120000</td>\n",
       "    </tr>\n",
       "  </tbody>\n",
       "</table>\n",
       "</div>"
      ],
      "text/plain": [
       "                 state       district      market              commodity  \\\n",
       "0  Andaman and Nicobar  South Andaman  Port Blair             Amaranthus   \n",
       "1  Andaman and Nicobar  South Andaman  Port Blair         Banana - Green   \n",
       "2  Andaman and Nicobar  South Andaman  Port Blair  Bhindi(Ladies Finger)   \n",
       "3  Andaman and Nicobar  South Andaman  Port Blair           Bitter gourd   \n",
       "4  Andaman and Nicobar  South Andaman  Port Blair           Black pepper   \n",
       "\n",
       "          variety arrival_date  min_price  max_price  modal_price  \n",
       "0      Amaranthus   04/03/2019       6000       8000         7000  \n",
       "1  Banana - Green   04/03/2019       4500       5500         5000  \n",
       "2          Bhindi   04/03/2019       6000       8000         7000  \n",
       "3           Other   04/03/2019       6000       8000         7000  \n",
       "4           Other   04/03/2019     110000     130000       120000  "
      ]
     },
     "execution_count": 63,
     "metadata": {},
     "output_type": "execute_result"
    }
   ],
   "source": [
    "df2.head()"
   ]
  },
  {
   "cell_type": "code",
   "execution_count": null,
   "id": "b5a59282",
   "metadata": {},
   "outputs": [],
   "source": []
  },
  {
   "cell_type": "code",
   "execution_count": 72,
   "id": "ebbbb420",
   "metadata": {},
   "outputs": [
    {
     "name": "stdout",
     "output_type": "stream",
     "text": [
      "Orange\n",
      "Apple\n",
      "Coconut\n",
      "Papaya\n"
     ]
    }
   ],
   "source": [
    "## looking at crops that are common in df2 and df1\n",
    "for i in set(df2.variety):\n",
    "    if i.lower() in set(df1.label):\n",
    "        print(i)"
   ]
  },
  {
   "cell_type": "markdown",
   "id": "194d2679",
   "metadata": {},
   "source": [
    "# Common types of soil in India\n",
    "\n",
    "** according to https://currentaffairs.adda247.com/major-soil-types-of-india-map/ **\n",
    "1. Alluvial soil - maize, rice, pulses\n",
    "2. Black soil - cotton\n",
    "3. Peaty Soil - \n",
    "4. Saline and alkaline soil - infertile\n",
    "5. Red soil\n",
    "6. Desert soil\n",
    "7. Laterite soil -coconut, coffee, cashew nuts, and rice\n",
    "8. Mountain soil"
   ]
  },
  {
   "cell_type": "code",
   "execution_count": 79,
   "id": "6dfab4ea",
   "metadata": {},
   "outputs": [
    {
     "name": "stdout",
     "output_type": "stream",
     "text": [
      "SpearmanrResult(correlation=0.011411146247036836, pvalue=0.5926889755760951)\n",
      "SpearmanrResult(correlation=-0.032456774096165084, pvalue=0.12803579560964418)\n",
      "SpearmanrResult(correlation=0.06990320344875078, pvalue=0.0010347593510654286)\n",
      "SpearmanrResult(correlation=-0.1512802682960735, pvalue=9.8399168859438e-13)\n"
     ]
    }
   ],
   "source": [
    "from scipy.stats import spearmanr\n",
    "print(spearmanr(df1.rainfall,df1.N))\n",
    "print(spearmanr(df1.rainfall,df1.P))\n",
    "print(spearmanr(df1.rainfall,df1.K))\n",
    "print(spearmanr(df1.rainfall,df1.ph))"
   ]
  },
  {
   "cell_type": "markdown",
   "id": "cbc4ac8b",
   "metadata": {},
   "source": [
    "## Weather prediction\n",
    "\n",
    "dataset used: https://www.kaggle.com/datasets/saisaran2/rainfall-data-from-1901-to-2017-for-india"
   ]
  },
  {
   "cell_type": "code",
   "execution_count": 80,
   "id": "43337d15",
   "metadata": {},
   "outputs": [],
   "source": [
    "df3=pd.read_csv(\"Rainfall_Data_LL.csv\")"
   ]
  },
  {
   "cell_type": "code",
   "execution_count": 82,
   "id": "62d40988",
   "metadata": {},
   "outputs": [
    {
     "data": {
      "text/html": [
       "<div>\n",
       "<style scoped>\n",
       "    .dataframe tbody tr th:only-of-type {\n",
       "        vertical-align: middle;\n",
       "    }\n",
       "\n",
       "    .dataframe tbody tr th {\n",
       "        vertical-align: top;\n",
       "    }\n",
       "\n",
       "    .dataframe thead th {\n",
       "        text-align: right;\n",
       "    }\n",
       "</style>\n",
       "<table border=\"1\" class=\"dataframe\">\n",
       "  <thead>\n",
       "    <tr style=\"text-align: right;\">\n",
       "      <th></th>\n",
       "      <th>SUBDIVISION</th>\n",
       "      <th>YEAR</th>\n",
       "      <th>JAN</th>\n",
       "      <th>FEB</th>\n",
       "      <th>MAR</th>\n",
       "      <th>APR</th>\n",
       "      <th>MAY</th>\n",
       "      <th>JUN</th>\n",
       "      <th>JUL</th>\n",
       "      <th>AUG</th>\n",
       "      <th>...</th>\n",
       "      <th>OCT</th>\n",
       "      <th>NOV</th>\n",
       "      <th>DEC</th>\n",
       "      <th>ANNUAL</th>\n",
       "      <th>Jan-Feb</th>\n",
       "      <th>Mar-May</th>\n",
       "      <th>June-September</th>\n",
       "      <th>Oct-Dec</th>\n",
       "      <th>Latitude</th>\n",
       "      <th>Longitude</th>\n",
       "    </tr>\n",
       "  </thead>\n",
       "  <tbody>\n",
       "    <tr>\n",
       "      <th>0</th>\n",
       "      <td>Andaman &amp; Nicobar Islands</td>\n",
       "      <td>1901</td>\n",
       "      <td>49.2</td>\n",
       "      <td>87.1</td>\n",
       "      <td>29.2</td>\n",
       "      <td>2.3</td>\n",
       "      <td>528.8</td>\n",
       "      <td>517.5</td>\n",
       "      <td>365.1</td>\n",
       "      <td>481.1</td>\n",
       "      <td>...</td>\n",
       "      <td>388.5</td>\n",
       "      <td>558.2</td>\n",
       "      <td>33.6</td>\n",
       "      <td>3373.2</td>\n",
       "      <td>136.3</td>\n",
       "      <td>560.3</td>\n",
       "      <td>1696.3</td>\n",
       "      <td>980.3</td>\n",
       "      <td>12.61124</td>\n",
       "      <td>92.83165</td>\n",
       "    </tr>\n",
       "    <tr>\n",
       "      <th>1</th>\n",
       "      <td>Andaman &amp; Nicobar Islands</td>\n",
       "      <td>1902</td>\n",
       "      <td>0.0</td>\n",
       "      <td>159.8</td>\n",
       "      <td>12.2</td>\n",
       "      <td>0.0</td>\n",
       "      <td>446.1</td>\n",
       "      <td>537.1</td>\n",
       "      <td>228.9</td>\n",
       "      <td>753.7</td>\n",
       "      <td>...</td>\n",
       "      <td>197.2</td>\n",
       "      <td>359.0</td>\n",
       "      <td>160.5</td>\n",
       "      <td>3520.7</td>\n",
       "      <td>159.8</td>\n",
       "      <td>458.3</td>\n",
       "      <td>2185.9</td>\n",
       "      <td>716.7</td>\n",
       "      <td>12.61124</td>\n",
       "      <td>92.83165</td>\n",
       "    </tr>\n",
       "    <tr>\n",
       "      <th>2</th>\n",
       "      <td>Andaman &amp; Nicobar Islands</td>\n",
       "      <td>1903</td>\n",
       "      <td>12.7</td>\n",
       "      <td>144.0</td>\n",
       "      <td>0.0</td>\n",
       "      <td>1.0</td>\n",
       "      <td>235.1</td>\n",
       "      <td>479.9</td>\n",
       "      <td>728.4</td>\n",
       "      <td>326.7</td>\n",
       "      <td>...</td>\n",
       "      <td>181.2</td>\n",
       "      <td>284.4</td>\n",
       "      <td>225.0</td>\n",
       "      <td>2957.4</td>\n",
       "      <td>156.7</td>\n",
       "      <td>236.1</td>\n",
       "      <td>1874.0</td>\n",
       "      <td>690.6</td>\n",
       "      <td>12.61124</td>\n",
       "      <td>92.83165</td>\n",
       "    </tr>\n",
       "    <tr>\n",
       "      <th>3</th>\n",
       "      <td>Andaman &amp; Nicobar Islands</td>\n",
       "      <td>1904</td>\n",
       "      <td>9.4</td>\n",
       "      <td>14.7</td>\n",
       "      <td>0.0</td>\n",
       "      <td>202.4</td>\n",
       "      <td>304.5</td>\n",
       "      <td>495.1</td>\n",
       "      <td>502.0</td>\n",
       "      <td>160.1</td>\n",
       "      <td>...</td>\n",
       "      <td>222.2</td>\n",
       "      <td>308.7</td>\n",
       "      <td>40.1</td>\n",
       "      <td>3079.6</td>\n",
       "      <td>24.1</td>\n",
       "      <td>506.9</td>\n",
       "      <td>1977.6</td>\n",
       "      <td>571.0</td>\n",
       "      <td>12.61124</td>\n",
       "      <td>92.83165</td>\n",
       "    </tr>\n",
       "    <tr>\n",
       "      <th>4</th>\n",
       "      <td>Andaman &amp; Nicobar Islands</td>\n",
       "      <td>1905</td>\n",
       "      <td>1.3</td>\n",
       "      <td>0.0</td>\n",
       "      <td>3.3</td>\n",
       "      <td>26.9</td>\n",
       "      <td>279.5</td>\n",
       "      <td>628.7</td>\n",
       "      <td>368.7</td>\n",
       "      <td>330.5</td>\n",
       "      <td>...</td>\n",
       "      <td>260.7</td>\n",
       "      <td>25.4</td>\n",
       "      <td>344.7</td>\n",
       "      <td>2566.7</td>\n",
       "      <td>1.3</td>\n",
       "      <td>309.7</td>\n",
       "      <td>1624.9</td>\n",
       "      <td>630.8</td>\n",
       "      <td>12.61124</td>\n",
       "      <td>92.83165</td>\n",
       "    </tr>\n",
       "  </tbody>\n",
       "</table>\n",
       "<p>5 rows × 21 columns</p>\n",
       "</div>"
      ],
      "text/plain": [
       "                 SUBDIVISION  YEAR   JAN    FEB   MAR    APR    MAY    JUN  \\\n",
       "0  Andaman & Nicobar Islands  1901  49.2   87.1  29.2    2.3  528.8  517.5   \n",
       "1  Andaman & Nicobar Islands  1902   0.0  159.8  12.2    0.0  446.1  537.1   \n",
       "2  Andaman & Nicobar Islands  1903  12.7  144.0   0.0    1.0  235.1  479.9   \n",
       "3  Andaman & Nicobar Islands  1904   9.4   14.7   0.0  202.4  304.5  495.1   \n",
       "4  Andaman & Nicobar Islands  1905   1.3    0.0   3.3   26.9  279.5  628.7   \n",
       "\n",
       "     JUL    AUG  ...    OCT    NOV    DEC  ANNUAL  Jan-Feb  Mar-May  \\\n",
       "0  365.1  481.1  ...  388.5  558.2   33.6  3373.2    136.3    560.3   \n",
       "1  228.9  753.7  ...  197.2  359.0  160.5  3520.7    159.8    458.3   \n",
       "2  728.4  326.7  ...  181.2  284.4  225.0  2957.4    156.7    236.1   \n",
       "3  502.0  160.1  ...  222.2  308.7   40.1  3079.6     24.1    506.9   \n",
       "4  368.7  330.5  ...  260.7   25.4  344.7  2566.7      1.3    309.7   \n",
       "\n",
       "   June-September  Oct-Dec  Latitude  Longitude  \n",
       "0          1696.3    980.3  12.61124   92.83165  \n",
       "1          2185.9    716.7  12.61124   92.83165  \n",
       "2          1874.0    690.6  12.61124   92.83165  \n",
       "3          1977.6    571.0  12.61124   92.83165  \n",
       "4          1624.9    630.8  12.61124   92.83165  \n",
       "\n",
       "[5 rows x 21 columns]"
      ]
     },
     "execution_count": 82,
     "metadata": {},
     "output_type": "execute_result"
    }
   ],
   "source": [
    "df3.drop(columns=[\"Name\"],inplace=True)\n",
    "df3.head()"
   ]
  },
  {
   "cell_type": "code",
   "execution_count": 100,
   "id": "f8389654",
   "metadata": {},
   "outputs": [
    {
     "data": {
      "text/html": [
       "<div>\n",
       "<style scoped>\n",
       "    .dataframe tbody tr th:only-of-type {\n",
       "        vertical-align: middle;\n",
       "    }\n",
       "\n",
       "    .dataframe tbody tr th {\n",
       "        vertical-align: top;\n",
       "    }\n",
       "\n",
       "    .dataframe thead th {\n",
       "        text-align: right;\n",
       "    }\n",
       "</style>\n",
       "<table border=\"1\" class=\"dataframe\">\n",
       "  <thead>\n",
       "    <tr style=\"text-align: right;\">\n",
       "      <th></th>\n",
       "      <th>SUBDIVISION</th>\n",
       "      <th>YEAR</th>\n",
       "    </tr>\n",
       "  </thead>\n",
       "  <tbody>\n",
       "    <tr>\n",
       "      <th>0</th>\n",
       "      <td>Andaman &amp; Nicobar Islands</td>\n",
       "      <td>1901</td>\n",
       "    </tr>\n",
       "    <tr>\n",
       "      <th>1</th>\n",
       "      <td>Andaman &amp; Nicobar Islands</td>\n",
       "      <td>1902</td>\n",
       "    </tr>\n",
       "    <tr>\n",
       "      <th>2</th>\n",
       "      <td>Andaman &amp; Nicobar Islands</td>\n",
       "      <td>1903</td>\n",
       "    </tr>\n",
       "    <tr>\n",
       "      <th>3</th>\n",
       "      <td>Andaman &amp; Nicobar Islands</td>\n",
       "      <td>1904</td>\n",
       "    </tr>\n",
       "    <tr>\n",
       "      <th>4</th>\n",
       "      <td>Andaman &amp; Nicobar Islands</td>\n",
       "      <td>1905</td>\n",
       "    </tr>\n",
       "    <tr>\n",
       "      <th>...</th>\n",
       "      <td>...</td>\n",
       "      <td>...</td>\n",
       "    </tr>\n",
       "    <tr>\n",
       "      <th>4182</th>\n",
       "      <td>Lakshadweep</td>\n",
       "      <td>2012</td>\n",
       "    </tr>\n",
       "    <tr>\n",
       "      <th>4183</th>\n",
       "      <td>Lakshadweep</td>\n",
       "      <td>2013</td>\n",
       "    </tr>\n",
       "    <tr>\n",
       "      <th>4184</th>\n",
       "      <td>Lakshadweep</td>\n",
       "      <td>2014</td>\n",
       "    </tr>\n",
       "    <tr>\n",
       "      <th>4185</th>\n",
       "      <td>Lakshadweep</td>\n",
       "      <td>2015</td>\n",
       "    </tr>\n",
       "    <tr>\n",
       "      <th>4186</th>\n",
       "      <td>Lakshadweep</td>\n",
       "      <td>2016</td>\n",
       "    </tr>\n",
       "  </tbody>\n",
       "</table>\n",
       "<p>4187 rows × 2 columns</p>\n",
       "</div>"
      ],
      "text/plain": [
       "                    SUBDIVISION  YEAR\n",
       "0     Andaman & Nicobar Islands  1901\n",
       "1     Andaman & Nicobar Islands  1902\n",
       "2     Andaman & Nicobar Islands  1903\n",
       "3     Andaman & Nicobar Islands  1904\n",
       "4     Andaman & Nicobar Islands  1905\n",
       "...                         ...   ...\n",
       "4182                Lakshadweep  2012\n",
       "4183                Lakshadweep  2013\n",
       "4184                Lakshadweep  2014\n",
       "4185                Lakshadweep  2015\n",
       "4186                Lakshadweep  2016\n",
       "\n",
       "[4187 rows x 2 columns]"
      ]
     },
     "execution_count": 100,
     "metadata": {},
     "output_type": "execute_result"
    }
   ],
   "source": [
    "X=df3.iloc[:,:2]\n",
    "X"
   ]
  },
  {
   "cell_type": "code",
   "execution_count": 101,
   "id": "0ed653e4",
   "metadata": {},
   "outputs": [],
   "source": [
    "y=df3.ANNUAL"
   ]
  },
  {
   "cell_type": "code",
   "execution_count": 102,
   "id": "d4f6840a",
   "metadata": {},
   "outputs": [],
   "source": [
    "le_state=LabelEncoder()\n",
    "X['SUBDIVISION']=le_state.fit_transform(X['SUBDIVISION'])"
   ]
  },
  {
   "cell_type": "code",
   "execution_count": 104,
   "id": "d3464bcd",
   "metadata": {},
   "outputs": [
    {
     "data": {
      "text/plain": [
       "RandomForestRegressor()"
      ]
     },
     "execution_count": 104,
     "metadata": {},
     "output_type": "execute_result"
    }
   ],
   "source": [
    "X_train,X_test,y_train,y_test=train_test_split(X,y,test_size=0.2,random_state=42)\n",
    "rfr=RandomForestRegressor()\n",
    "rfr.fit(X_train,y_train)"
   ]
  },
  {
   "cell_type": "code",
   "execution_count": 105,
   "id": "6d19e49e",
   "metadata": {},
   "outputs": [],
   "source": [
    "y_pred=rfr.predict(X_test)"
   ]
  },
  {
   "cell_type": "code",
   "execution_count": 106,
   "id": "7380e8e1",
   "metadata": {},
   "outputs": [
    {
     "data": {
      "text/plain": [
       "0.871313765753805"
      ]
     },
     "execution_count": 106,
     "metadata": {},
     "output_type": "execute_result"
    }
   ],
   "source": [
    "from sklearn.metrics import r2_score\n",
    "\n",
    "r2_score(y_test,y_pred)"
   ]
  },
  {
   "cell_type": "code",
   "execution_count": 108,
   "id": "97daad8f",
   "metadata": {},
   "outputs": [
    {
     "name": "stderr",
     "output_type": "stream",
     "text": [
      "C:\\Users\\sutha\\anaconda3\\lib\\site-packages\\xgboost\\data.py:262: FutureWarning: pandas.Int64Index is deprecated and will be removed from pandas in a future version. Use pandas.Index with the appropriate dtype instead.\n",
      "  elif isinstance(data.columns, (pd.Int64Index, pd.RangeIndex)):\n"
     ]
    },
    {
     "data": {
      "text/plain": [
       "0.8968687929408511"
      ]
     },
     "execution_count": 108,
     "metadata": {},
     "output_type": "execute_result"
    }
   ],
   "source": [
    "xgbr=XGBRegressor()\n",
    "xgbr.fit(X_train,y_train)\n",
    "y_pred=xgbr.predict(X_test)\n",
    "r2_score(y_test,y_pred)"
   ]
  },
  {
   "cell_type": "code",
   "execution_count": 110,
   "id": "c000d41e",
   "metadata": {},
   "outputs": [
    {
     "data": {
      "text/plain": [
       "0.8895842897947297"
      ]
     },
     "execution_count": 110,
     "metadata": {},
     "output_type": "execute_result"
    }
   ],
   "source": [
    "ebr=ExplainableBoostingRegressor()\n",
    "ebr.fit(X_train,y_train)\n",
    "y_pred=ebr.predict(X_test)\n",
    "r2_score(y_test,y_pred)"
   ]
  },
  {
   "cell_type": "code",
   "execution_count": null,
   "id": "9f1aa203",
   "metadata": {},
   "outputs": [],
   "source": []
  }
 ],
 "metadata": {
  "kernelspec": {
   "display_name": "Python 3 (ipykernel)",
   "language": "python",
   "name": "python3"
  },
  "language_info": {
   "codemirror_mode": {
    "name": "ipython",
    "version": 3
   },
   "file_extension": ".py",
   "mimetype": "text/x-python",
   "name": "python",
   "nbconvert_exporter": "python",
   "pygments_lexer": "ipython3",
   "version": "3.9.7"
  }
 },
 "nbformat": 4,
 "nbformat_minor": 5
}
