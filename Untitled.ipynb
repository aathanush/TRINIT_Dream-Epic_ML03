{
 "cells": [
  {
   "cell_type": "code",
   "execution_count": 2,
   "id": "df00cdef",
   "metadata": {},
   "outputs": [
    {
     "name": "stdout",
     "output_type": "stream",
     "text": [
      "muskmelon\n"
     ]
    },
    {
     "name": "stderr",
     "output_type": "stream",
     "text": [
      "C:\\Users\\sutha\\anaconda3\\lib\\site-packages\\sklearn\\base.py:450: UserWarning: X does not have valid feature names, but RandomForestClassifier was fitted with feature names\n",
      "  warnings.warn(\n"
     ]
    }
   ],
   "source": [
    "import pickle\n",
    "import numpy as np\n",
    "with open('rfc_crop_recommendation.pkl','rb') as f:    \n",
    "    mod = pickle.load(f)\n",
    "    # Call your machine learning model here\n",
    "    prediction = mod.predict(np.array([45,45,45,30,12,4,12]).reshape(1,-1))\n",
    "    with open('le.pkl','rb') as f:\n",
    "        le=pickle.load(f)\n",
    "    print(le.inverse_transform(prediction)[0])"
   ]
  },
  {
   "cell_type": "code",
   "execution_count": null,
   "id": "ec6ffd61",
   "metadata": {},
   "outputs": [],
   "source": []
  }
 ],
 "metadata": {
  "kernelspec": {
   "display_name": "Python 3 (ipykernel)",
   "language": "python",
   "name": "python3"
  },
  "language_info": {
   "codemirror_mode": {
    "name": "ipython",
    "version": 3
   },
   "file_extension": ".py",
   "mimetype": "text/x-python",
   "name": "python",
   "nbconvert_exporter": "python",
   "pygments_lexer": "ipython3",
   "version": "3.9.7"
  }
 },
 "nbformat": 4,
 "nbformat_minor": 5
}
