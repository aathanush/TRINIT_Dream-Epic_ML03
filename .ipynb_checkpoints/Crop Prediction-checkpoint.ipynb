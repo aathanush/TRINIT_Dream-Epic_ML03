{
 "cells": [
  {
   "cell_type": "code",
   "execution_count": 287,
   "id": "5136bc2f",
   "metadata": {},
   "outputs": [],
   "source": [
    "import pandas as pd\n",
    "import matplotlib.pyplot as plt\n",
    "import numpy as np\n",
    "import sklearn\n",
    "import seaborn as sns\n",
    "import numpy as np\n",
    "import torch"
   ]
  },
  {
   "cell_type": "markdown",
   "id": "6bf29009",
   "metadata": {},
   "source": [
    "### Problem Statement:\n",
    "\n",
    "Predicting the optimal crop that could be grown in a particular location based on the\n",
    "soil composition, rainfall, temperature and return of investment is essential for any\n",
    "farmer of the modern world. This could not only save farmers from spending extra\n",
    "money on fertilizers but also avoid the dangerous practice of growing the same crops\n",
    "on the same patch of land repeatedly, which depletes the solid from its natural\n",
    "resources.\n",
    "\n",
    "#### given dataset links:\n",
    "\n",
    "1) https://www.kaggle.com/datasets/thammuio/all-agriculture-related-datasets-for-india\n",
    "\n",
    "2) https://www.kaggle.com/datasets/vanvalkenberg/historicalweatherdataforindiancities\n",
    "\n",
    "3) https://www.kaggle.com/datasets/atharvaingle/crop-recommendation-dataset\n",
    "\n",
    "4) https://www.kaggle.com/datasets/rajanand/rainfall-in-india\n",
    "\n"
   ]
  },
  {
   "cell_type": "code",
   "execution_count": 260,
   "id": "d669f0ba",
   "metadata": {},
   "outputs": [],
   "source": [
    "df1=pd.read_csv(\"Crop_recommendation.csv\")"
   ]
  },
  {
   "cell_type": "code",
   "execution_count": 261,
   "id": "b2c7b96d",
   "metadata": {},
   "outputs": [
    {
     "data": {
      "text/plain": [
       "{'apple',\n",
       " 'banana',\n",
       " 'blackgram',\n",
       " 'chickpea',\n",
       " 'coconut',\n",
       " 'coffee',\n",
       " 'cotton',\n",
       " 'grapes',\n",
       " 'jute',\n",
       " 'kidneybeans',\n",
       " 'lentil',\n",
       " 'maize',\n",
       " 'mango',\n",
       " 'mothbeans',\n",
       " 'mungbean',\n",
       " 'muskmelon',\n",
       " 'orange',\n",
       " 'papaya',\n",
       " 'pigeonpeas',\n",
       " 'pomegranate',\n",
       " 'rice',\n",
       " 'watermelon'}"
      ]
     },
     "execution_count": 261,
     "metadata": {},
     "output_type": "execute_result"
    }
   ],
   "source": [
    "from sklearn.model_selection import train_test_split\n",
    "set(df1.label)"
   ]
  },
  {
   "cell_type": "code",
   "execution_count": 262,
   "id": "03df7857",
   "metadata": {},
   "outputs": [
    {
     "data": {
      "text/html": [
       "<div>\n",
       "<style scoped>\n",
       "    .dataframe tbody tr th:only-of-type {\n",
       "        vertical-align: middle;\n",
       "    }\n",
       "\n",
       "    .dataframe tbody tr th {\n",
       "        vertical-align: top;\n",
       "    }\n",
       "\n",
       "    .dataframe thead th {\n",
       "        text-align: right;\n",
       "    }\n",
       "</style>\n",
       "<table border=\"1\" class=\"dataframe\">\n",
       "  <thead>\n",
       "    <tr style=\"text-align: right;\">\n",
       "      <th></th>\n",
       "      <th>N</th>\n",
       "      <th>P</th>\n",
       "      <th>K</th>\n",
       "      <th>temperature</th>\n",
       "      <th>humidity</th>\n",
       "      <th>ph</th>\n",
       "      <th>rainfall</th>\n",
       "      <th>label</th>\n",
       "    </tr>\n",
       "  </thead>\n",
       "  <tbody>\n",
       "    <tr>\n",
       "      <th>0</th>\n",
       "      <td>90</td>\n",
       "      <td>42</td>\n",
       "      <td>43</td>\n",
       "      <td>20.879744</td>\n",
       "      <td>82.002744</td>\n",
       "      <td>6.502985</td>\n",
       "      <td>202.935536</td>\n",
       "      <td>rice</td>\n",
       "    </tr>\n",
       "    <tr>\n",
       "      <th>1</th>\n",
       "      <td>85</td>\n",
       "      <td>58</td>\n",
       "      <td>41</td>\n",
       "      <td>21.770462</td>\n",
       "      <td>80.319644</td>\n",
       "      <td>7.038096</td>\n",
       "      <td>226.655537</td>\n",
       "      <td>rice</td>\n",
       "    </tr>\n",
       "    <tr>\n",
       "      <th>2</th>\n",
       "      <td>60</td>\n",
       "      <td>55</td>\n",
       "      <td>44</td>\n",
       "      <td>23.004459</td>\n",
       "      <td>82.320763</td>\n",
       "      <td>7.840207</td>\n",
       "      <td>263.964248</td>\n",
       "      <td>rice</td>\n",
       "    </tr>\n",
       "    <tr>\n",
       "      <th>3</th>\n",
       "      <td>74</td>\n",
       "      <td>35</td>\n",
       "      <td>40</td>\n",
       "      <td>26.491096</td>\n",
       "      <td>80.158363</td>\n",
       "      <td>6.980401</td>\n",
       "      <td>242.864034</td>\n",
       "      <td>rice</td>\n",
       "    </tr>\n",
       "    <tr>\n",
       "      <th>4</th>\n",
       "      <td>78</td>\n",
       "      <td>42</td>\n",
       "      <td>42</td>\n",
       "      <td>20.130175</td>\n",
       "      <td>81.604873</td>\n",
       "      <td>7.628473</td>\n",
       "      <td>262.717340</td>\n",
       "      <td>rice</td>\n",
       "    </tr>\n",
       "  </tbody>\n",
       "</table>\n",
       "</div>"
      ],
      "text/plain": [
       "    N   P   K  temperature   humidity        ph    rainfall label\n",
       "0  90  42  43    20.879744  82.002744  6.502985  202.935536  rice\n",
       "1  85  58  41    21.770462  80.319644  7.038096  226.655537  rice\n",
       "2  60  55  44    23.004459  82.320763  7.840207  263.964248  rice\n",
       "3  74  35  40    26.491096  80.158363  6.980401  242.864034  rice\n",
       "4  78  42  42    20.130175  81.604873  7.628473  262.717340  rice"
      ]
     },
     "execution_count": 262,
     "metadata": {},
     "output_type": "execute_result"
    }
   ],
   "source": [
    "df1.head()"
   ]
  },
  {
   "cell_type": "code",
   "execution_count": 263,
   "id": "072e12e4",
   "metadata": {},
   "outputs": [
    {
     "data": {
      "image/png": "[encoded data removed]",
      "text/plain": [
       "<Figure size 1800x648 with 1 Axes>"
      ]
     },
     "metadata": {
      "needs_background": "light"
     },
     "output_type": "display_data"
    }
   ],
   "source": [
    "plt.figure(figsize=(25,9))\n",
    "plt.bar(list(set(df1.label)),[list(df1['label']).count(i) for i in set(df1.label)])\n",
    "plt.show()\n",
    "# ALL CLASSES ARE PRESENT IN COMMON"
   ]
  },
  {
   "cell_type": "code",
   "execution_count": 264,
   "id": "3772276e",
   "metadata": {},
   "outputs": [],
   "source": [
    "from sklearn.preprocessing import LabelEncoder"
   ]
  },
  {
   "cell_type": "code",
   "execution_count": 265,
   "id": "0c8bfb2f",
   "metadata": {},
   "outputs": [],
   "source": [
    "le=LabelEncoder()\n",
    "X=df1.drop(inplace=False,columns=['label'])\n",
    "y=df1['label']\n",
    "y=le.fit_transform(y)\n"
   ]
  },
  {
   "cell_type": "code",
   "execution_count": 266,
   "id": "5e70225c",
   "metadata": {},
   "outputs": [
    {
     "data": {
      "text/plain": [
       "N              0\n",
       "P              0\n",
       "K              0\n",
       "temperature    0\n",
       "humidity       0\n",
       "ph             0\n",
       "rainfall       0\n",
       "label          0\n",
       "dtype: int64"
      ]
     },
     "execution_count": 266,
     "metadata": {},
     "output_type": "execute_result"
    }
   ],
   "source": [
    "df1.isnull().sum()"
   ]
  },
  {
   "cell_type": "code",
   "execution_count": 267,
   "id": "6b8f7723",
   "metadata": {},
   "outputs": [
    {
     "data": {
      "text/plain": [
       "array([20, 20, 20, ...,  5,  5,  5])"
      ]
     },
     "execution_count": 267,
     "metadata": {},
     "output_type": "execute_result"
    }
   ],
   "source": [
    "y"
   ]
  },
  {
   "cell_type": "code",
   "execution_count": 268,
   "id": "40b3b3a2",
   "metadata": {},
   "outputs": [],
   "source": [
    "from xgboost import XGBClassifier,XGBRegressor\n",
    "from interpret.glassbox import ExplainableBoostingClassifier,ExplainableBoostingRegressor\n",
    "import pickle"
   ]
  },
  {
   "cell_type": "code",
   "execution_count": 269,
   "id": "40f89360",
   "metadata": {},
   "outputs": [],
   "source": [
    "X_train,X_test,y_train,y_test=train_test_split(X,y,test_size=0.2,random_state=42)"
   ]
  },
  {
   "cell_type": "code",
   "execution_count": 270,
   "id": "22ee3780",
   "metadata": {},
   "outputs": [],
   "source": [
    "xgb=XGBClassifier()\n",
    "ebm=ExplainableBoostingClassifier()"
   ]
  },
  {
   "cell_type": "code",
   "execution_count": 271,
   "id": "9f5f034c",
   "metadata": {},
   "outputs": [
    {
     "name": "stderr",
     "output_type": "stream",
     "text": [
      "C:\\Users\\sutha\\anaconda3\\lib\\site-packages\\xgboost\\sklearn.py:1224: UserWarning: The use of label encoder in XGBClassifier is deprecated and will be removed in a future release. To remove this warning, do the following: 1) Pass option use_label_encoder=False when constructing XGBClassifier object; and 2) Encode your labels (y) as integers starting with 0, i.e. 0, 1, 2, ..., [num_class - 1].\n",
      "  warnings.warn(label_encoder_deprecation_msg, UserWarning)\n",
      "C:\\Users\\sutha\\anaconda3\\lib\\site-packages\\xgboost\\data.py:262: FutureWarning: pandas.Int64Index is deprecated and will be removed from pandas in a future version. Use pandas.Index with the appropriate dtype instead.\n",
      "  elif isinstance(data.columns, (pd.Int64Index, pd.RangeIndex)):\n"
     ]
    },
    {
     "name": "stdout",
     "output_type": "stream",
     "text": [
      "[21:13:11] WARNING: C:/Users/Administrator/workspace/xgboost-win64_release_1.5.1/src/learner.cc:1115: Starting in XGBoost 1.3.0, the default evaluation metric used with the objective 'multi:softprob' was changed from 'merror' to 'mlogloss'. Explicitly set eval_metric if you'd like to restore the old behavior.\n"
     ]
    },
    {
     "name": "stderr",
     "output_type": "stream",
     "text": [
      "C:\\Users\\sutha\\anaconda3\\lib\\site-packages\\interpret\\glassbox\\ebm\\ebm.py:568: UserWarning: Detected multiclass problem. Forcing interactions to 0. Multiclass interactions work except for global visualizations, so the line below setting interactions to zero can be disabled if you know what you are doing.\n",
      "  warn(\"Detected multiclass problem. Forcing interactions to 0. Multiclass interactions work except for global visualizations, so the line below setting interactions to zero can be disabled if you know what you are doing.\")\n"
     ]
    },
    {
     "data": {
      "text/plain": [
       "ExplainableBoostingClassifier()"
      ]
     },
     "execution_count": 271,
     "metadata": {},
     "output_type": "execute_result"
    }
   ],
   "source": [
    "xgb.fit(X_train,y_train)\n",
    "ebm.fit(X_train,y_train)"
   ]
  },
  {
   "cell_type": "code",
   "execution_count": 272,
   "id": "2bbcb723",
   "metadata": {},
   "outputs": [
    {
     "name": "stdout",
     "output_type": "stream",
     "text": [
      "XGBoost Classifier prediction accuracy: 0.990909090909091\n",
      "Explainable Boosting Classifier prediction accuracy: 0.9886363636363636\n"
     ]
    }
   ],
   "source": [
    "y_pred=xgb.predict(X_test)\n",
    "from sklearn.metrics import accuracy_score, confusion_matrix\n",
    "\n",
    "print(f\"XGBoost Classifier prediction accuracy: {accuracy_score(y_pred,y_test)}\")\n",
    "y_pred=ebm.predict(X_test)\n",
    "print(f\"Explainable Boosting Classifier prediction accuracy: {accuracy_score(y_pred,y_test)}\")"
   ]
  },
  {
   "cell_type": "code",
   "execution_count": 273,
   "id": "919916c6",
   "metadata": {},
   "outputs": [],
   "source": [
    "from sklearn.ensemble import RandomForestClassifier,RandomForestRegressor\n"
   ]
  },
  {
   "cell_type": "code",
   "execution_count": 297,
   "id": "195a9bf1",
   "metadata": {},
   "outputs": [
    {
     "name": "stdout",
     "output_type": "stream",
     "text": [
      "Random Forest Classifier prediction accuracy: 0.9931818181818182\n",
      "        N    P    K  temperature   humidity        ph    rainfall\n",
      "1451  101   17   47    29.494014  94.729813  6.185053   26.308209\n",
      "1334   98    8   51    26.179346  86.522581  6.259336   49.430510\n",
      "1761   59   62   49    43.360515  93.351916  6.941497  114.778071\n",
      "1735   44   60   55    34.280461  90.555616  6.825371   98.540477\n",
      "1576   30  137  200    22.914300  90.704756  5.603413  118.604465\n",
      "...   ...  ...  ...          ...        ...       ...         ...\n",
      "59     99   55   35    21.723831  80.238990  6.501698  277.962619\n",
      "71     67   45   38    22.727910  82.170688  7.300411  260.887506\n",
      "1908  121   47   16    23.605640  79.295731  7.723240   72.498009\n",
      "1958  116   52   19    22.942767  75.371706  6.114526   67.080226\n",
      "482     5   68   20    19.043805  33.106951  6.121667  155.370562\n",
      "\n",
      "[440 rows x 7 columns]\n",
      "[15 21 17 17  0 12  0 13 14 10  2  4 19  8  4 19  0 11 17 15  5 17 16 17\n",
      "  3  8 14 16 18 20 19 13  8 10  8  2  8  3  3  9 17 12  2 11 14 11 18  4\n",
      " 15 11  2  5  7 14  5  9  6  0  1  2 21  4 10 16 17 18 16 20 15 18 15  4\n",
      "  8  1  2 17  1  6 21 16  5  3 20 13 16 12  5 13  2 19 11 13  6 17 18 13\n",
      "  9  5  2 10  4 20 16 15 21  9 21  1 18 13  1  8  6 19 18  3 11  4 19 20\n",
      " 18  7  2  4  3  2  4 11  1 13  1  9 19  3  4 16 18  1  1  0  9 15 14 13\n",
      "  4 11  0  4  9 13 14 10 21 14 18 18 18  9 11  8  3  0 16  6 20  4  7 10\n",
      " 21  7  7  2 19  3  4 11 10  7 21  8  5  5  9  8 13  9  1  9  4 17 17 14\n",
      " 12 19 21  9 11  0  2  3  7  7  1  6 20 19 14  1  8 14 11  3  3  3  0 20\n",
      "  9 17  5  2  9 12 12  4 17  0  3 19  3 15  0 15 15 12 12  6  4 19 20 15\n",
      "  5 17 13 11 12 15 18 14  5  7  4  6 18 20  0 19  5  3  6  8 12  1 17  0\n",
      "  3 20 18 13 14  8 19  7 13  8 11  4 11  3  1 20  4  8 12 15  0  1 18  2\n",
      " 16  3 21  1  0  3  5 18 16  0  4 17 21 13 17  3 19  3 17 10  0 19  3 12\n",
      "  3 19 21  9 14 15 21  9 15 12 20  2  3  1  2 18 17 18 14  4  6  7  0 10\n",
      "  1  8  0 19  0 14 15  5  5 18  8  9  1 11  8 11 18 12  9 19 21  2 11 20\n",
      " 13  9 12  6 17 13  6 14 16  8  2 14  5  1 18 17  0 19 11 12  4  0 10  8\n",
      " 13 10  4  2  8 14  6 21  0  7  4  7 21 20 12 12  5 19  1  7  8 16  6 12\n",
      " 17 15 13  8  3 13 19 21 13  6 17 21 13 20  4 13 13 11 20 11  4 16 19  9\n",
      " 21 14  2 20 20  6  6 18]\n"
     ]
    }
   ],
   "source": [
    "rfc=RandomForestClassifier()\n",
    "rfc.fit(X_train,y_train)\n",
    "y_pred=rfc.predict(X_test)\n",
    "print(f\"Random Forest Classifier prediction accuracy: {accuracy_score(y_pred,y_test)}\")\n",
    "print(X_test)\n",
    "print(y_test)\n",
    "class RFC:\n",
    "    def predict(self,X_test):\n",
    "        if type(X_test)==list:\n",
    "            X_test=np.array(X_test).reshape(1, -1)\n",
    "        y_pred=le.inverse_transform(rfc.predict(X_test))\n",
    "        for i in range(len(y_pred)):\n",
    "            y_pred[i]='<div '+y_pred[i]\n",
    "        return y_pred[0]"
   ]
  },
  {
   "cell_type": "code",
   "execution_count": 298,
   "id": "0e065637",
   "metadata": {},
   "outputs": [
    {
     "name": "stdout",
     "output_type": "stream",
     "text": [
      "<div muskmelon\n"
     ]
    },
    {
     "name": "stderr",
     "output_type": "stream",
     "text": [
      "C:\\Users\\sutha\\anaconda3\\lib\\site-packages\\sklearn\\base.py:450: UserWarning: X does not have valid feature names, but RandomForestClassifier was fitted with feature names\n",
      "  warnings.warn(\n"
     ]
    }
   ],
   "source": [
    "pickle.dump(RFC(), open('rfc_crop_recommendation.pkl', 'wb'))\n",
    "with open('rfc_crop_recommendation.pkl', 'rb') as f:\n",
    "    mod = pickle.load(f)\n",
    "    y_pred=mod.predict([101,  17,  47  , 29.494014 ,94.729813 ,6.185053 ,26.308209])\n",
    "    print(y_pred)"
   ]
  },
  {
   "cell_type": "markdown",
   "id": "cc84841d",
   "metadata": {},
   "source": [
    "# Agricultural dataset "
   ]
  },
  {
   "cell_type": "code",
   "execution_count": 249,
   "id": "915f11b2",
   "metadata": {},
   "outputs": [],
   "source": [
    "df2=pd.read_csv(\"Indian_agriculture.csv\",parse_dates=['arrival_date'])"
   ]
  },
  {
   "cell_type": "code",
   "execution_count": 250,
   "id": "c9ba3c23",
   "metadata": {},
   "outputs": [
    {
     "name": "stdout",
     "output_type": "stream",
     "text": [
      "<class 'pandas.core.frame.DataFrame'>\n",
      "RangeIndex: 2238 entries, 0 to 2237\n",
      "Data columns (total 9 columns):\n",
      " #   Column        Non-Null Count  Dtype         \n",
      "---  ------        --------------  -----         \n",
      " 0   state         2238 non-null   object        \n",
      " 1   district      2238 non-null   object        \n",
      " 2   market        2238 non-null   object        \n",
      " 3   commodity     2238 non-null   object        \n",
      " 4   label         2238 non-null   object        \n",
      " 5   arrival_date  2238 non-null   datetime64[ns]\n",
      " 6   min_price     2238 non-null   int64         \n",
      " 7   max_price     2238 non-null   int64         \n",
      " 8   modal_price   2238 non-null   int64         \n",
      "dtypes: datetime64[ns](1), int64(3), object(5)\n",
      "memory usage: 157.5+ KB\n"
     ]
    }
   ],
   "source": [
    "df2.info()\n",
    "\n"
   ]
  },
  {
   "cell_type": "code",
   "execution_count": 256,
   "id": "b5a59282",
   "metadata": {},
   "outputs": [
    {
     "name": "stdout",
     "output_type": "stream",
     "text": [
      "      state  district  commodity  Year  Month  Day\n",
      "0         0       153          0  2019      4    3\n",
      "1         0       153         10  2019      4    3\n",
      "2         0       153         18  2019      4    3\n",
      "3         0       153         19  2019      4    3\n",
      "4         0       153         22  2019      4    3\n",
      "...     ...       ...        ...   ...    ...  ...\n",
      "2233     25       167        118  2019      4    3\n",
      "2234     25       167        123  2019      4    3\n",
      "2235     25       167         74  2019      4    3\n",
      "2236     25       167        123  2019      4    3\n",
      "2237     25       167        152  2019      4    3\n",
      "\n",
      "[2238 rows x 6 columns]\n",
      "y0 results:\n",
      "ExplainableBoostingRegressor()\n",
      "0.5919004876778682\n",
      "RandomForestRegressor()\n",
      "0.580171858546338\n"
     ]
    },
    {
     "name": "stderr",
     "output_type": "stream",
     "text": [
      "C:\\Users\\sutha\\anaconda3\\lib\\site-packages\\xgboost\\data.py:262: FutureWarning: pandas.Int64Index is deprecated and will be removed from pandas in a future version. Use pandas.Index with the appropriate dtype instead.\n",
      "  elif isinstance(data.columns, (pd.Int64Index, pd.RangeIndex)):\n"
     ]
    },
    {
     "name": "stdout",
     "output_type": "stream",
     "text": [
      "XGBRegressor(base_score=0.5, booster='gbtree', colsample_bylevel=1,\n",
      "             colsample_bynode=1, colsample_bytree=1, enable_categorical=False,\n",
      "             gamma=0, gpu_id=-1, importance_type=None,\n",
      "             interaction_constraints='', learning_rate=0.300000012,\n",
      "             max_delta_step=0, max_depth=6, min_child_weight=1, missing=nan,\n",
      "             monotone_constraints='()', n_estimators=100, n_jobs=8,\n",
      "             num_parallel_tree=1, predictor='auto', random_state=0, reg_alpha=0,\n",
      "             reg_lambda=1, scale_pos_weight=1, subsample=1, tree_method='exact',\n",
      "             validate_parameters=1, verbosity=None)\n",
      "0.5590363039637746\n",
      "y1 results:\n",
      "ExplainableBoostingRegressor()\n",
      "0.5199062303999709\n",
      "RandomForestRegressor()\n",
      "0.5823503625763666\n"
     ]
    },
    {
     "name": "stderr",
     "output_type": "stream",
     "text": [
      "C:\\Users\\sutha\\anaconda3\\lib\\site-packages\\xgboost\\data.py:262: FutureWarning: pandas.Int64Index is deprecated and will be removed from pandas in a future version. Use pandas.Index with the appropriate dtype instead.\n",
      "  elif isinstance(data.columns, (pd.Int64Index, pd.RangeIndex)):\n"
     ]
    },
    {
     "name": "stdout",
     "output_type": "stream",
     "text": [
      "XGBRegressor(base_score=0.5, booster='gbtree', colsample_bylevel=1,\n",
      "             colsample_bynode=1, colsample_bytree=1, enable_categorical=False,\n",
      "             gamma=0, gpu_id=-1, importance_type=None,\n",
      "             interaction_constraints='', learning_rate=0.300000012,\n",
      "             max_delta_step=0, max_depth=6, min_child_weight=1, missing=nan,\n",
      "             monotone_constraints='()', n_estimators=100, n_jobs=8,\n",
      "             num_parallel_tree=1, predictor='auto', random_state=0, reg_alpha=0,\n",
      "             reg_lambda=1, scale_pos_weight=1, subsample=1, tree_method='exact',\n",
      "             validate_parameters=1, verbosity=None)\n",
      "0.5765239806890385\n",
      "y2 results:\n",
      "ExplainableBoostingRegressor()\n",
      "0.4657563630225735\n",
      "RandomForestRegressor()\n",
      "0.6015843725009768\n"
     ]
    },
    {
     "name": "stderr",
     "output_type": "stream",
     "text": [
      "C:\\Users\\sutha\\anaconda3\\lib\\site-packages\\xgboost\\data.py:262: FutureWarning: pandas.Int64Index is deprecated and will be removed from pandas in a future version. Use pandas.Index with the appropriate dtype instead.\n",
      "  elif isinstance(data.columns, (pd.Int64Index, pd.RangeIndex)):\n"
     ]
    },
    {
     "name": "stdout",
     "output_type": "stream",
     "text": [
      "XGBRegressor(base_score=0.5, booster='gbtree', colsample_bylevel=1,\n",
      "             colsample_bynode=1, colsample_bytree=1, enable_categorical=False,\n",
      "             gamma=0, gpu_id=-1, importance_type=None,\n",
      "             interaction_constraints='', learning_rate=0.300000012,\n",
      "             max_delta_step=0, max_depth=6, min_child_weight=1, missing=nan,\n",
      "             monotone_constraints='()', n_estimators=100, n_jobs=8,\n",
      "             num_parallel_tree=1, predictor='auto', random_state=0, reg_alpha=0,\n",
      "             reg_lambda=1, scale_pos_weight=1, subsample=1, tree_method='exact',\n",
      "             validate_parameters=1, verbosity=None)\n",
      "0.5816416886816616\n"
     ]
    }
   ],
   "source": [
    "X=df2.drop(columns=['label'])\n",
    "X=X.iloc[:,:5]\n",
    "X.drop(columns=['market'],inplace=True)\n",
    "y=[df2.min_price,df2.max_price,df2.modal_price]\n",
    "\n",
    "le_df2_state=LabelEncoder()\n",
    "le_df2_dist=LabelEncoder()\n",
    "le_df2_comm=LabelEncoder()\n",
    "X['state']=le_df2_state.fit_transform(X['state'])\n",
    "X['district']=le_df2_dist.fit_transform(X['district'])\n",
    "X['commodity']=le_df2_comm.fit_transform(X['commodity'])\n",
    "X['Year'] = X['arrival_date'].apply(lambda time: time.year)\n",
    "X['Month'] = X['arrival_date'].apply(lambda time: time.month)\n",
    "X['Day'] = X['arrival_date'].apply(lambda time: time.day)\n",
    "X.drop([\"arrival_date\"],axis=1,inplace=True)\n",
    "print(X)\n",
    "\n",
    "best_models=[]\n",
    "for i in range(len(y)):\n",
    "    models=[ExplainableBoostingRegressor(),RandomForestRegressor(),XGBRegressor()]\n",
    "    X_train,X_test,y_train,y_test=train_test_split(X,y[i],test_size=0.2,random_state=42)\n",
    "    print(f'y{i} results:')\n",
    "    for j in range(len(models)):\n",
    "        models[j].fit(X_train,y_train)\n",
    "        print(models[j])\n",
    "        score=r2_score(y_test,models[j].predict(X_test))\n",
    "        print(score)\n",
    "        if j==0 or score>max_acc:\n",
    "            best=models[j]\n",
    "            max_acc=score\n",
    "    best_models.append(best)\n",
    "            "
   ]
  },
  {
   "cell_type": "code",
   "execution_count": 252,
   "id": "ebbbb420",
   "metadata": {},
   "outputs": [
    {
     "name": "stdout",
     "output_type": "stream",
     "text": [
      "Common crops in df1 and df2: \n",
      "Banana\n",
      "Rice\n",
      "Papaya\n",
      "Orange\n",
      "Jute\n",
      "Cotton\n",
      "Apple\n",
      "Coconut\n",
      "Mango\n",
      "Pomegranate\n",
      "Grapes\n",
      "Maize\n"
     ]
    },
    {
     "data": {
      "image/png": "[encoded data removed]",
      "text/plain": [
       "<Figure size 1152x648 with 1 Axes>"
      ]
     },
     "metadata": {
      "needs_background": "light"
     },
     "output_type": "display_data"
    },
    {
     "data": {
      "text/plain": [
       "[ExplainableBoostingRegressor(),\n",
       " RandomForestRegressor(),\n",
       " XGBRegressor(base_score=0.5, booster='gbtree', colsample_bylevel=1,\n",
       "              colsample_bynode=1, colsample_bytree=1, enable_categorical=False,\n",
       "              gamma=0, gpu_id=-1, importance_type=None,\n",
       "              interaction_constraints='', learning_rate=0.300000012,\n",
       "              max_delta_step=0, max_depth=6, min_child_weight=1, missing=nan,\n",
       "              monotone_constraints='()', n_estimators=100, n_jobs=8,\n",
       "              num_parallel_tree=1, predictor='auto', random_state=0, reg_alpha=0,\n",
       "              reg_lambda=1, scale_pos_weight=1, subsample=1, tree_method='exact',\n",
       "              validate_parameters=1, verbosity=None)]"
      ]
     },
     "execution_count": 252,
     "metadata": {},
     "output_type": "execute_result"
    }
   ],
   "source": [
    "## looking at crops that are common in df2 and df1\n",
    "print(\"Common crops in df1 and df2: \")\n",
    "label=[]\n",
    "count=[]\n",
    "for i in set(df2.commodity):\n",
    "    if i.lower() in set(df1.label):\n",
    "        print(i)\n",
    "        label.append(i)\n",
    "        count.append(list(df2.commodity).count(i))\n",
    "\n",
    "plt.figure(figsize=(16,9))\n",
    "plt.bar(label,count)\n",
    "plt.show()\n",
    "best_models"
   ]
  },
  {
   "cell_type": "code",
   "execution_count": 258,
   "id": "7b676394",
   "metadata": {},
   "outputs": [
    {
     "name": "stdout",
     "output_type": "stream",
     "text": [
      "['<div 6037.6466666666665', '<div 2165.2733333333335', '<div 3702.43', '<div 4462.3', '<div 928.7', '<div 1474.083333333333', '<div 1901.218373015873', '<div 758.666507936508', '<div 464.5', '<div 1066.2', '<div 514.3285119047617', '<div 1785.765238095238', '<div 619.4190476190474', '<div 996.4500000000002', '<div 2001.42', '<div 878.1666666666667', '<div 1977.98', '<div 5267.25', '<div 4337.666666666668', '<div 2742.0', '<div 2297.073571428571', '<div 5825.05', '<div 4467.3', '<div 1412.9333333333332', '<div 503.9154285714285', '<div 1460.3014862914863', '<div 900.0', '<div 775.7008333333334', '<div 19457.926666666666', '<div 491.2', '<div 1122.3458333333335', '<div 2185.35', '<div 2189.3261904761907', '<div 1827.0', '<div 326.41309523809525', '<div 8166.5', '<div 6111.449333333334', '<div 1977.9833694083698', '<div 1090.361111111111', '<div 4742.6', '<div 1273.12', '<div 1465.5', '<div 2754.8833333333337', '<div 6525.0666666666675', '<div 4871.0', '<div 2990.2938095238087', '<div 3267.0', '<div 2560.6666666666665', '<div 2049.465', '<div 850.944761904762', '<div 4686.250000000001', '<div 534.2349999999999', '<div 2016.3345238095237', '<div 714.085', '<div 4906.516707181706', '<div 1582.966666666667', '<div 3896.0535714285716', '<div 1001.3533333333332', '<div 4118.7054761904765', '<div 1990.65', '<div 1637.6443015873012', '<div 1673.7199999999998', '<div 3786.0', '<div 2642.824242424242', '<div 106.51685714285713', '<div 1971.602408702409', '<div 3662.8142857142857', '<div 1608.91', '<div 714.75', '<div 562.9352380952381', '<div 591.2844444444445', '<div 561.3342063492064', '<div 1773.7683333333332', '<div 588.5666666666667', '<div 2092.1833333333334', '<div 1637.6443015873012', '<div 3305.938253968254', '<div 16741.301587301587', '<div 3135.833333333334', '<div 774.085', '<div 2565.5', '<div 881.2571428571429', '<div 4013.005', '<div 1086.857142857143', '<div 573.5402380952381', '<div 2309.6766666666663', '<div 444.16666666666674', '<div 4977.75', '<div 2961.5125', '<div 938.0', '<div 2400.55', '<div 1672.0175634920631', '<div 2791.0', '<div 1857.0966666666666', '<div 3967.62', '<div 4989.75', '<div 1741.3325595238086', '<div 4894.85', '<div 4186.725', '<div 1181.9833333333333', '<div 8052.766666666668', '<div 2252.697619047619', '<div 1431.5', '<div 2742.0', '<div 499.57083333333327', '<div 1716.0', '<div 1777.1', '<div 1205.2607936507939', '<div 4101.22', '<div 676.8266666666667', '<div 2397.75', '<div 1224.4', '<div 4642.555555555557', '<div 1325.5', '<div 4744.266666666666', '<div 3112.5', '<div 3796.7166666666662', '<div 2168.853515873016', '<div 4871.0', '<div 3889.0', '<div 1252.1', '<div 3836.045', '<div 1973.3952380952383', '<div 2339.2', '<div 3738.075', '<div 693.6944444444446', '<div 4913.452380952381', '<div 762.5222222222222', '<div 1276.9666666666665', '<div 1924.9333333333334', '<div 573.5402380952381', '<div 6353.05', '<div 1396.0', '<div 569.3527777777778', '<div 2777.5384920634915', '<div 3315.8', '<div 2379.7625', '<div 1334.25', '<div 643.6538095238095', '<div 903.4971428571429', '<div 3522.97', '<div 3274.35', '<div 1922.1333333333332', '<div 1276.5833333333335', '<div 1262.5833333333333', '<div 2540.252380952381', '<div 3484.01', '<div 1016.3007738095238', '<div 8798.185833333333', '<div 1775.8924603174603', '<div 1068.3166666666666', '<div 2831.483333333333', '<div 4976.46', '<div 5222.233333333333', '<div 1922.1333333333332', '<div 10724.712992368743', '<div 2528.3785714285714', '<div 5266.276666666668', '<div 2528.3785714285714', '<div 4529.1', '<div 3139.25', '<div 1174.8625000000002', '<div 5077.825', '<div 2018.2083333333335', '<div 3516.5', '<div 2961.5125', '<div 1034.0', '<div 2681.506666666666', '<div 1040.2227272727273', '<div 5320.783333333334', '<div 952.0833333333333', '<div 626.2452047952047', '<div 9057.223333333333', '<div 7656.005333333334', '<div 3000.2833333333338', '<div 1133.665', '<div 5383.717976190475', '<div 2797.510952380953', '<div 698.0', '<div 1234.0', '<div 588.7', '<div 4246.8783993784', '<div 919.6666666666667', '<div 1645.175', '<div 5629.96', '<div 872.75', '<div 1806.8563095238092', '<div 1852.3360317460317', '<div 6347.242282106779', '<div 8098.4', '<div 2779.0', '<div 3877.405', '<div 6356.186666666667', '<div 3046.997619047619', '<div 2248.2166666666667', '<div 530.7357142857143', '<div 4170.15', '<div 5122.24', '<div 374.2933333333333', '<div 3650.0', '<div 741.0', '<div 8370.3', '<div 3872.5', '<div 779.6333333333334', '<div 1598.9661904761906', '<div 2086.22', '<div 2811.9666666666676', '<div 1068.3166666666666', '<div 686.7166666666666', '<div 1672.0175634920631', '<div 516.5771428571429', '<div 1184.56', '<div 544.55', '<div 1634.3809523809523', '<div 6228.266666666666', '<div 643.6538095238095', '<div 2824.7', '<div 1637.6443015873012', '<div 1086.857142857143', '<div 2558.266666666667', '<div 11238.5', '<div 4068.166666666666', '<div 5651.916666666666', '<div 4846.85', '<div 7029.5', '<div 4072.166666666666', '<div 2579.666666666667', '<div 1819.5', '<div 965.8233333333334', '<div 593.98', '<div 27.991999999999994', '<div 1460.3014862914863', '<div 2764.666666666666', '<div 2098.6', '<div 659.3045', '<div 2776.9', '<div 3077.45', '<div 1231.275', '<div 1276.9666666666665', '<div 5063.3026666666665', '<div 1460.3014862914863', '<div 1860.25', '<div 4246.8783993784', '<div 9834.492619047618', '<div 741.8333333333333', '<div 1228.75', '<div 3837.4', '<div 6324.226500000001', '<div 643.6538095238095', '<div 5598.5', '<div 505.5', '<div 1806.8563095238092', '<div 3864.708333333334', '<div 5597.45', '<div 1134.3333333333333', '<div 4806.666666666668', '<div 6228.266666666666', '<div 780.4166666666665', '<div 534.2349999999999', '<div 2388.7904761904756', '<div 74.14686904761905', '<div 3387.2124761904765', '<div 3478.1904761904757', '<div 3548.3238095238094', '<div 925.7114285714285', '<div 1953.2833333333335', '<div 2602.782142857143', '<div 785.15', '<div 9843.925', '<div 3135.225833333333', '<div 1922.1333333333332', '<div 1670.1254166666668', '<div 3476.5', '<div 1799.2297619047617', '<div 1262.5833333333333', '<div 1774.35', '<div 2388.7904761904756', '<div 2050.8333333333335', '<div 7155.366666666668', '<div 2620.0', '<div 4412.433333333333', '<div 3203.482333333333', '<div 4322.166666666667', '<div 1382.84', '<div 2116.690476190476', '<div 1198.6184523809527', '<div 773.6714285714286', '<div 5440.326333333335', '<div 1321.440952380952', '<div 1784.3000000000002', '<div 1663.3969406546144', '<div 2288.0051587301587', '<div 3915.63', '<div 2705.6223809523817', '<div 8250.9', '<div 2421.5051587301587', '<div 3013.175', '<div 1388.825', '<div 2319.9571428571426', '<div 1099.35', '<div 647.4666666666667', '<div 2824.7', '<div 1090.361111111111', '<div 3185.672619047619', '<div 13024.066666666668', '<div 1916.833333333333', '<div 1634.1', '<div 811.9027777777778', '<div 5347.03', '<div 7641.750000000003', '<div 845.4195526695529', '<div 2966.6', '<div 3274.35', '<div 396.67', '<div 1122.3458333333335', '<div 573.5402380952381', '<div 6883.441666666667', '<div 13028.24142857143', '<div 502.64583333333326', '<div 1890.9357142857143', '<div 1922.1333333333332', '<div 850.944761904762', '<div 688.0933333333335', '<div 799.8', '<div 4462.0952380952385', '<div 3673.75', '<div 2966.6', '<div 1788.6400000000003', '<div 1645.0', '<div 540.1313095238095', '<div 2705.6223809523817', '<div 1007.9666666666666', '<div 627.05', '<div 1209.75', '<div 1584.9833333333333', '<div 1790.0', '<div 2243.0', '<div 674.3', '<div 1709.4666666666665', '<div 3077.833333333334', '<div 2882.930476190476', '<div 1133.665', '<div 382.39642857142854', '<div 424.86666666666673', '<div 1789.03', '<div 3497.0333333333338', '<div 1145.7333333333333', '<div 1839.29', '<div 63.34283333333332', '<div 509.30833333333334', '<div 3098.7136904761905', '<div 1526.333333333333', '<div 2161.9999999999995', '<div 939.1733333333334', '<div 1013.0', '<div 5108.8', '<div 7593.46', '<div 845.4195526695529', '<div 619.4190476190474', '<div 3399.5', '<div 698.5', '<div 880.2', '<div 2923.666666666667', '<div 6665.75', '<div 1907.7', '<div 2018.2083333333335', '<div 4057.95', '<div 1574.48', '<div 1481.120634920635', '<div 2580.4116666666664', '<div 1861.6305753968252', '<div 1944.6625', '<div 4227.0', '<div 2532.650476190476', '<div 5756.136666666666', '<div 1631.3166666666668', '<div 2068.866666666667', '<div 5346.591666666666', '<div 2749.15', '<div 623.6283333333334', '<div 1475.452380952381', '<div 946.9866666666666', '<div 5451.11', '<div 4034.0716666666663', '<div 589.0200000000001', '<div 6202.9205', '<div 1637.6443015873012', '<div 6027.1', '<div 1637.6443015873012', '<div 534.2349999999999', '<div 2448.91', '<div 3952.7935185185183', '<div 1264.259126984127', '<div 1927.75', '<div 4322.166666666667', '<div 516.5771428571429', '<div 647.4666666666667', '<div 693.344', '<div 593.98', '<div 508.94266666666664', '<div 4146.9', '<div 1806.8563095238092', '<div 760.1491666666666', '<div 4449.285714285715', '<div 611.1004761904762', '<div 9132.15', '<div 3707.353333333334', '<div 2100.2', '<div 989.6989682539684', '<div 5007.95', '<div 1273.12', '<div 1006.8121904761905', '<div 670.9666666666666', '<div 1570.283333333334', '<div 880.2', '<div 1133.665', '<div 3928.666666666666', '<div 2046.3', '<div 4299.914285714286', '<div 3314.016666666667', '<div 4138.8', '<div 2553.7911904761904', '<div 2832.0', '<div 3731.666666666666', '<div 3508.7425', '<div 5795.98', '<div 2705.0691680082728', '<div 1308.4875', '<div 1770.1276666666663', '<div 4083.6', '<div 2588.291666666667', '<div 1944.6625', '<div 794.8645000000001', '<div 3952.7935185185183', '<div 1774.35', '<div 1792.274', '<div 5605.77', '<div 648.0', '<div 2580.4116666666664', '<div 507.536', '<div 883.8442857142858', '<div 8586.85', '<div 4165.666666666667', '<div 1724.2399999999998', '<div 8003.883333333332', '<div 2676.8666666666663', '<div 1788.6400000000003', '<div 1035.25']\n"
     ]
    }
   ],
   "source": [
    "class PricePrediction:\n",
    "    def predict(self,X_test):\n",
    "        y_pred=list(best_models[1].predict(X_test))\n",
    "        for i in range(len(y_pred)):\n",
    "            y_pred[i]='<div '+str(y_pred[i])\n",
    "            \n",
    "        return y_pred\n",
    "pickle.dump(PricePrediction(), open('expected_price_prediction.pkl', 'wb'))\n",
    "with open('expected_price_prediction.pkl','rb') as f:\n",
    "        mod = pickle.load(f)\n",
    "        print(mod.predict(X_test))"
   ]
  },
  {
   "cell_type": "markdown",
   "id": "194d2679",
   "metadata": {},
   "source": [
    "# Common types of soil in India\n",
    "\n",
    "** according to https://currentaffairs.adda247.com/major-soil-types-of-india-map/ **\n",
    "1. Alluvial soil - maize, rice, pulses\n",
    "2. Black soil - cotton\n",
    "3. Peaty Soil - \n",
    "4. Saline and alkaline soil - infertile\n",
    "5. Red soil\n",
    "6. Desert soil\n",
    "7. Laterite soil -coconut, coffee, cashew nuts, and rice\n",
    "8. Mountain soil"
   ]
  },
  {
   "cell_type": "code",
   "execution_count": 206,
   "id": "6dfab4ea",
   "metadata": {},
   "outputs": [
    {
     "name": "stdout",
     "output_type": "stream",
     "text": [
      "SpearmanrResult(correlation=0.011411146247036836, pvalue=0.5926889755760951)\n",
      "SpearmanrResult(correlation=-0.032456774096165084, pvalue=0.12803579560964418)\n",
      "SpearmanrResult(correlation=0.06990320344875078, pvalue=0.0010347593510654286)\n",
      "SpearmanrResult(correlation=-0.1512802682960735, pvalue=9.8399168859438e-13)\n"
     ]
    }
   ],
   "source": [
    "from scipy.stats import spearmanr\n",
    "print(spearmanr(df1.rainfall,df1.N))\n",
    "print(spearmanr(df1.rainfall,df1.P))\n",
    "print(spearmanr(df1.rainfall,df1.K))\n",
    "print(spearmanr(df1.rainfall,df1.ph))"
   ]
  },
  {
   "cell_type": "markdown",
   "id": "cbc4ac8b",
   "metadata": {},
   "source": [
    "## Weather prediction\n",
    "\n",
    "dataset used: https://www.kaggle.com/datasets/saisaran2/rainfall-data-from-1901-to-2017-for-india"
   ]
  },
  {
   "cell_type": "code",
   "execution_count": 118,
   "id": "43337d15",
   "metadata": {},
   "outputs": [],
   "source": [
    "df3=pd.read_csv(\"Rainfall_Data_LL.csv\")"
   ]
  },
  {
   "cell_type": "code",
   "execution_count": 119,
   "id": "62d40988",
   "metadata": {},
   "outputs": [
    {
     "name": "stdout",
     "output_type": "stream",
     "text": [
      "<class 'pandas.core.frame.DataFrame'>\n",
      "RangeIndex: 4187 entries, 0 to 4186\n",
      "Data columns (total 21 columns):\n",
      " #   Column          Non-Null Count  Dtype  \n",
      "---  ------          --------------  -----  \n",
      " 0   SUBDIVISION     4187 non-null   object \n",
      " 1   YEAR            4187 non-null   int64  \n",
      " 2   JAN             4187 non-null   float64\n",
      " 3   FEB             4187 non-null   float64\n",
      " 4   MAR             4187 non-null   float64\n",
      " 5   APR             4187 non-null   float64\n",
      " 6   MAY             4187 non-null   float64\n",
      " 7   JUN             4187 non-null   float64\n",
      " 8   JUL             4187 non-null   float64\n",
      " 9   AUG             4187 non-null   float64\n",
      " 10  SEP             4187 non-null   float64\n",
      " 11  OCT             4187 non-null   float64\n",
      " 12  NOV             4187 non-null   float64\n",
      " 13  DEC             4187 non-null   float64\n",
      " 14  ANNUAL          4187 non-null   float64\n",
      " 15  Jan-Feb         4187 non-null   float64\n",
      " 16  Mar-May         4187 non-null   float64\n",
      " 17  June-September  4187 non-null   float64\n",
      " 18  Oct-Dec         4187 non-null   float64\n",
      " 19  Latitude        4187 non-null   float64\n",
      " 20  Longitude       4187 non-null   float64\n",
      "dtypes: float64(19), int64(1), object(1)\n",
      "memory usage: 687.1+ KB\n"
     ]
    }
   ],
   "source": [
    "df3.drop(columns=[\"Name\"],inplace=True)\n",
    "df3.info()"
   ]
  },
  {
   "cell_type": "code",
   "execution_count": 120,
   "id": "f8389654",
   "metadata": {},
   "outputs": [
    {
     "data": {
      "text/html": [
       "<div>\n",
       "<style scoped>\n",
       "    .dataframe tbody tr th:only-of-type {\n",
       "        vertical-align: middle;\n",
       "    }\n",
       "\n",
       "    .dataframe tbody tr th {\n",
       "        vertical-align: top;\n",
       "    }\n",
       "\n",
       "    .dataframe thead th {\n",
       "        text-align: right;\n",
       "    }\n",
       "</style>\n",
       "<table border=\"1\" class=\"dataframe\">\n",
       "  <thead>\n",
       "    <tr style=\"text-align: right;\">\n",
       "      <th></th>\n",
       "      <th>SUBDIVISION</th>\n",
       "      <th>YEAR</th>\n",
       "    </tr>\n",
       "  </thead>\n",
       "  <tbody>\n",
       "    <tr>\n",
       "      <th>0</th>\n",
       "      <td>Andaman &amp; Nicobar Islands</td>\n",
       "      <td>1901</td>\n",
       "    </tr>\n",
       "    <tr>\n",
       "      <th>1</th>\n",
       "      <td>Andaman &amp; Nicobar Islands</td>\n",
       "      <td>1902</td>\n",
       "    </tr>\n",
       "    <tr>\n",
       "      <th>2</th>\n",
       "      <td>Andaman &amp; Nicobar Islands</td>\n",
       "      <td>1903</td>\n",
       "    </tr>\n",
       "    <tr>\n",
       "      <th>3</th>\n",
       "      <td>Andaman &amp; Nicobar Islands</td>\n",
       "      <td>1904</td>\n",
       "    </tr>\n",
       "    <tr>\n",
       "      <th>4</th>\n",
       "      <td>Andaman &amp; Nicobar Islands</td>\n",
       "      <td>1905</td>\n",
       "    </tr>\n",
       "    <tr>\n",
       "      <th>...</th>\n",
       "      <td>...</td>\n",
       "      <td>...</td>\n",
       "    </tr>\n",
       "    <tr>\n",
       "      <th>4182</th>\n",
       "      <td>Lakshadweep</td>\n",
       "      <td>2012</td>\n",
       "    </tr>\n",
       "    <tr>\n",
       "      <th>4183</th>\n",
       "      <td>Lakshadweep</td>\n",
       "      <td>2013</td>\n",
       "    </tr>\n",
       "    <tr>\n",
       "      <th>4184</th>\n",
       "      <td>Lakshadweep</td>\n",
       "      <td>2014</td>\n",
       "    </tr>\n",
       "    <tr>\n",
       "      <th>4185</th>\n",
       "      <td>Lakshadweep</td>\n",
       "      <td>2015</td>\n",
       "    </tr>\n",
       "    <tr>\n",
       "      <th>4186</th>\n",
       "      <td>Lakshadweep</td>\n",
       "      <td>2016</td>\n",
       "    </tr>\n",
       "  </tbody>\n",
       "</table>\n",
       "<p>4187 rows × 2 columns</p>\n",
       "</div>"
      ],
      "text/plain": [
       "                    SUBDIVISION  YEAR\n",
       "0     Andaman & Nicobar Islands  1901\n",
       "1     Andaman & Nicobar Islands  1902\n",
       "2     Andaman & Nicobar Islands  1903\n",
       "3     Andaman & Nicobar Islands  1904\n",
       "4     Andaman & Nicobar Islands  1905\n",
       "...                         ...   ...\n",
       "4182                Lakshadweep  2012\n",
       "4183                Lakshadweep  2013\n",
       "4184                Lakshadweep  2014\n",
       "4185                Lakshadweep  2015\n",
       "4186                Lakshadweep  2016\n",
       "\n",
       "[4187 rows x 2 columns]"
      ]
     },
     "execution_count": 120,
     "metadata": {},
     "output_type": "execute_result"
    }
   ],
   "source": [
    "X=df3.iloc[:,:2]\n",
    "X"
   ]
  },
  {
   "cell_type": "code",
   "execution_count": 121,
   "id": "0ed653e4",
   "metadata": {},
   "outputs": [
    {
     "name": "stdout",
     "output_type": "stream",
     "text": [
      "(JAN,FEB,MAR,APR,MAY,JUN,JUL,AUG,SEP,OCT,NOV,DEC,ANNUAL)?ANNUAL\n"
     ]
    }
   ],
   "source": [
    "period=input('(JAN,FEB,MAR,APR,MAY,JUN,JUL,AUG,SEP,OCT,NOV,DEC,ANNUAL)?')\n",
    "y=df3[period]"
   ]
  },
  {
   "cell_type": "code",
   "execution_count": 122,
   "id": "d4f6840a",
   "metadata": {},
   "outputs": [],
   "source": [
    "le_state=LabelEncoder()\n",
    "X['SUBDIVISION']=le_state.fit_transform(X['SUBDIVISION'])"
   ]
  },
  {
   "cell_type": "code",
   "execution_count": 123,
   "id": "d3464bcd",
   "metadata": {},
   "outputs": [
    {
     "data": {
      "text/plain": [
       "RandomForestRegressor()"
      ]
     },
     "execution_count": 123,
     "metadata": {},
     "output_type": "execute_result"
    }
   ],
   "source": [
    "X_train,X_test,y_train,y_test=train_test_split(X,y,test_size=0.2,random_state=42)\n",
    "rfr=RandomForestRegressor()\n",
    "rfr.fit(X_train,y_train)"
   ]
  },
  {
   "cell_type": "code",
   "execution_count": 124,
   "id": "6d19e49e",
   "metadata": {},
   "outputs": [],
   "source": [
    "y_pred=rfr.predict(X_test)"
   ]
  },
  {
   "cell_type": "code",
   "execution_count": 125,
   "id": "7380e8e1",
   "metadata": {},
   "outputs": [
    {
     "data": {
      "text/plain": [
       "0.8706804947617304"
      ]
     },
     "execution_count": 125,
     "metadata": {},
     "output_type": "execute_result"
    }
   ],
   "source": [
    "from sklearn.metrics import r2_score\n",
    "\n",
    "r2_score(y_test,y_pred)"
   ]
  },
  {
   "cell_type": "code",
   "execution_count": 126,
   "id": "97daad8f",
   "metadata": {},
   "outputs": [
    {
     "name": "stderr",
     "output_type": "stream",
     "text": [
      "C:\\Users\\sutha\\anaconda3\\lib\\site-packages\\xgboost\\data.py:262: FutureWarning: pandas.Int64Index is deprecated and will be removed from pandas in a future version. Use pandas.Index with the appropriate dtype instead.\n",
      "  elif isinstance(data.columns, (pd.Int64Index, pd.RangeIndex)):\n"
     ]
    },
    {
     "data": {
      "text/plain": [
       "0.8968687929408511"
      ]
     },
     "execution_count": 126,
     "metadata": {},
     "output_type": "execute_result"
    }
   ],
   "source": [
    "xgbr=XGBRegressor()\n",
    "xgbr.fit(X_train,y_train)\n",
    "y_pred=xgbr.predict(X_test)\n",
    "r2_score(y_test,y_pred)"
   ]
  },
  {
   "cell_type": "code",
   "execution_count": 127,
   "id": "c000d41e",
   "metadata": {},
   "outputs": [
    {
     "data": {
      "text/plain": [
       "0.8895842897947297"
      ]
     },
     "execution_count": 127,
     "metadata": {},
     "output_type": "execute_result"
    }
   ],
   "source": [
    "ebr=ExplainableBoostingRegressor()\n",
    "ebr.fit(X_train,y_train)\n",
    "y_pred=ebr.predict(X_test)\n",
    "r2_score(y_test,y_pred)"
   ]
  },
  {
   "cell_type": "code",
   "execution_count": 129,
   "id": "e64eb56c",
   "metadata": {},
   "outputs": [],
   "source": [
    "pickle.dump(xgbr, open('annual_rainfall_prediction.pkl', 'wb'))"
   ]
  },
  {
   "cell_type": "markdown",
   "id": "434d49d3",
   "metadata": {},
   "source": [
    "### API Integration"
   ]
  },
  {
   "cell_type": "code",
   "execution_count": 181,
   "id": "a175b143",
   "metadata": {},
   "outputs": [],
   "source": [
    "import requests\n",
    "import datetime as dt"
   ]
  },
  {
   "cell_type": "code",
   "execution_count": 182,
   "id": "7a503330",
   "metadata": {},
   "outputs": [],
   "source": [
    "BASE_URL='http://api.openweathermap.org/data/2.5/weather?'"
   ]
  },
  {
   "cell_type": "code",
   "execution_count": 192,
   "id": "bc78532f",
   "metadata": {},
   "outputs": [],
   "source": [
    "KEY='66c277899013496cc5fcaf1fa85d5f4f'\n",
    "city='Port Blair'"
   ]
  },
  {
   "cell_type": "code",
   "execution_count": 193,
   "id": "dd20011c",
   "metadata": {},
   "outputs": [],
   "source": [
    "response=requests.get(BASE_URL+'appid='+KEY+'&q='+city).json()"
   ]
  },
  {
   "cell_type": "code",
   "execution_count": 194,
   "id": "80fcfae6",
   "metadata": {},
   "outputs": [
    {
     "data": {
      "text/plain": [
       "{'coord': {'lon': 92.75, 'lat': 11.6667},\n",
       " 'weather': [{'id': 721,\n",
       "   'main': 'Haze',\n",
       "   'description': 'haze',\n",
       "   'icon': '50d'}],\n",
       " 'base': 'stations',\n",
       " 'main': {'temp': 302.17,\n",
       "  'feels_like': 304.37,\n",
       "  'temp_min': 302.17,\n",
       "  'temp_max': 302.17,\n",
       "  'pressure': 1008,\n",
       "  'humidity': 61},\n",
       " 'visibility': 5000,\n",
       " 'wind': {'speed': 5.14, 'deg': 30},\n",
       " 'clouds': {'all': 37},\n",
       " 'dt': 1676112302,\n",
       " 'sys': {'type': 1,\n",
       "  'id': 9215,\n",
       "  'country': 'IN',\n",
       "  'sunrise': 1676074308,\n",
       "  'sunset': 1676116489},\n",
       " 'timezone': 19800,\n",
       " 'id': 1259385,\n",
       " 'name': 'Port Blair',\n",
       " 'cod': 200}"
      ]
     },
     "execution_count": 194,
     "metadata": {},
     "output_type": "execute_result"
    }
   ],
   "source": [
    "response"
   ]
  },
  {
   "cell_type": "code",
   "execution_count": 199,
   "id": "28b735e8",
   "metadata": {},
   "outputs": [],
   "source": [
    "crops=list(set(df1.label))"
   ]
  },
  {
   "cell_type": "code",
   "execution_count": 216,
   "id": "a8b90ca1",
   "metadata": {},
   "outputs": [
    {
     "name": "stdout",
     "output_type": "stream",
     "text": [
      "pigeonpeas\n",
      "grapes\n",
      "rice\n",
      "blackgram\n",
      "coconut\n",
      "maize\n",
      "kidneybeans\n",
      "watermelon\n",
      "orange\n",
      "muskmelon\n",
      "mothbeans\n",
      "lentil\n",
      "jute\n",
      "pomegranate\n",
      "mango\n",
      "apple\n",
      "banana\n",
      "mungbean\n",
      "cotton\n",
      "chickpea\n",
      "papaya\n",
      "coffee\n"
     ]
    }
   ],
   "source": [
    "for i in crops:\n",
    "    print(i)"
   ]
  },
  {
   "cell_type": "code",
   "execution_count": 204,
   "id": "be62087d",
   "metadata": {},
   "outputs": [
    {
     "data": {
      "text/plain": [
       "array([0.10421476, 0.1462235 , 0.17427836, 0.07419961, 0.21882336,\n",
       "       0.0584693 , 0.2237911 ])"
      ]
     },
     "execution_count": 204,
     "metadata": {},
     "output_type": "execute_result"
    }
   ],
   "source": [
    "rfc.feature_importances_"
   ]
  },
  {
   "cell_type": "code",
   "execution_count": 215,
   "id": "67902851",
   "metadata": {},
   "outputs": [
    {
     "data": {
      "text/plain": [
       "<AxesSubplot:>"
      ]
     },
     "execution_count": 215,
     "metadata": {},
     "output_type": "execute_result"
    },
    {
     "data": {
      "image/png": "[encoded data removed]",
      "text/plain": [
       "<Figure size 1152x648 with 2 Axes>"
      ]
     },
     "metadata": {
      "needs_background": "light"
     },
     "output_type": "display_data"
    }
   ],
   "source": [
    "k=[]\n",
    "for i in df1.columns:\n",
    "    temp=[]\n",
    "    for j in df1.columns:\n",
    "        temp.append(spearmanr(df1[i],df1[j])[0])\n",
    "    k.append(temp)\n",
    "plt.figure(figsize=(16,9))\n",
    "sns.heatmap(k,xticklabels=df1.columns,yticklabels=df1.columns,annot=True)"
   ]
  },
  {
   "cell_type": "code",
   "execution_count": 217,
   "id": "0cc48f43",
   "metadata": {},
   "outputs": [
    {
     "data": {
      "text/plain": [
       "22"
      ]
     },
     "execution_count": 217,
     "metadata": {},
     "output_type": "execute_result"
    }
   ],
   "source": [
    "len(crops)"
   ]
  },
  {
   "cell_type": "markdown",
   "id": "a2835ef7",
   "metadata": {},
   "source": [
    "Crops were grouped based on the general similarity in environments.\n",
    "\n",
    "Group 1: Tropical crops\n",
    "\n",
    "coconut\n",
    "\n",
    "mango\n",
    "\n",
    "banana\n",
    "\n",
    "papaya\n",
    "\n",
    "orange\n",
    "\n",
    "watermelon\n",
    "\n",
    "muskmelon\n",
    "\n",
    "pomegranate\n",
    "\n",
    "<hr>\n",
    "\n",
    "Group 2: Subtropical crops\n",
    "\n",
    "grapes\n",
    "\n",
    "coffee\n",
    "\n",
    "apple\n",
    "\n",
    "<hr>\n",
    "\n",
    "Group 3: Temperate crops\n",
    "\n",
    "maize\n",
    "\n",
    "cotton\n",
    "\n",
    "kidney beans\n",
    "\n",
    "<hr>\n",
    "\n",
    "Group 4: Semi-Arid crops\n",
    "\n",
    "pigeon peas\n",
    "\n",
    "black gram\n",
    "\n",
    "lentil\n",
    "\n",
    "chickpea\n",
    "\n",
    "moth beans\n",
    "\n",
    "mung bean\n",
    "\n",
    "jute\n",
    "\n",
    "<hr>\n",
    "\n",
    "Group 5: Aquatic crops\n",
    "\n",
    "rice"
   ]
  },
  {
   "cell_type": "code",
   "execution_count": 226,
   "id": "1180f9bc",
   "metadata": {},
   "outputs": [
    {
     "name": "stdout",
     "output_type": "stream",
     "text": [
      "Input the croprice\n",
      "The alternate crops in decreasing order of profitability are\n"
     ]
    }
   ],
   "source": [
    "## demonstration for similar crop recommendation\n",
    "similar_crops=[['rice'],['pomegranate','mango','orange','coconut','papaya','banana','watermelon','muskmelon'],['grapes','coffee','apple'],['cotton','maize','kidneybeans'],\n",
    "               ['lentil','chickpea','pigeonpeas','blackgram','mungbean','mothbeans','jute']]\n",
    "\n",
    "crop_in=''.join(input(\"Input the crop\").lower().split())\n",
    "\n",
    "for i in range(len(similar_crops)):\n",
    "    if crop_in in similar_crops[i]:\n",
    "        \n",
    "        print(\"The alternate crops in decreasing order of profitability are\")\n",
    "        for j in similar_crops[i]:\n",
    "            if crop_in!=j:\n",
    "                print(j)\n",
    "        "
   ]
  },
  {
   "cell_type": "code",
   "execution_count": null,
   "id": "49107655",
   "metadata": {},
   "outputs": [],
   "source": []
  }
 ],
 "metadata": {
  "kernelspec": {
   "display_name": "Python 3 (ipykernel)",
   "language": "python",
   "name": "python3"
  },
  "language_info": {
   "codemirror_mode": {
    "name": "ipython",
    "version": 3
   },
   "file_extension": ".py",
   "mimetype": "text/x-python",
   "name": "python",
   "nbconvert_exporter": "python",
   "pygments_lexer": "ipython3",
   "version": "3.9.7"
  }
 },
 "nbformat": 4,
 "nbformat_minor": 5
}
