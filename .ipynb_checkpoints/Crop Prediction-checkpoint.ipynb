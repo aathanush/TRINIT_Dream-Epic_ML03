{
 "cells": [
  {
   "cell_type": "code",
   "execution_count": 1,
   "id": "5136bc2f",
   "metadata": {},
   "outputs": [],
   "source": [
    "import pandas as pd\n",
    "import matplotlib.pyplot as plt\n",
    "import numpy as np\n",
    "import sklearn\n",
    "import seaborn as sns\n",
    "import torch"
   ]
  },
  {
   "cell_type": "markdown",
   "id": "6bf29009",
   "metadata": {},
   "source": [
    "### Problem Statement:\n",
    "\n",
    "Predicting the optimal crop that could be grown in a particular location based on the\n",
    "soil composition, rainfall, temperature and return of investment is essential for any\n",
    "farmer of the modern world. This could not only save farmers from spending extra\n",
    "money on fertilizers but also avoid the dangerous practice of growing the same crops\n",
    "on the same patch of land repeatedly, which depletes the solid from its natural\n",
    "resources.\n",
    "\n",
    "#### given dataset links:\n",
    "\n",
    "1) https://www.kaggle.com/datasets/thammuio/all-agriculture-related-datasets-for-india\n",
    "\n",
    "2) https://www.kaggle.com/datasets/vanvalkenberg/historicalweatherdataforindiancities\n",
    "\n",
    "3) https://www.kaggle.com/datasets/atharvaingle/crop-recommendation-dataset\n",
    "\n",
    "4) https://www.kaggle.com/datasets/rajanand/rainfall-in-india\n",
    "\n"
   ]
  },
  {
   "cell_type": "code",
   "execution_count": 2,
   "id": "d669f0ba",
   "metadata": {},
   "outputs": [],
   "source": [
    "df1=pd.read_csv(\"Crop_recommendation.csv\")"
   ]
  },
  {
   "cell_type": "code",
   "execution_count": 3,
   "id": "b2c7b96d",
   "metadata": {},
   "outputs": [
    {
     "data": {
      "text/plain": [
       "{'apple',\n",
       " 'banana',\n",
       " 'blackgram',\n",
       " 'chickpea',\n",
       " 'coconut',\n",
       " 'coffee',\n",
       " 'cotton',\n",
       " 'grapes',\n",
       " 'jute',\n",
       " 'kidneybeans',\n",
       " 'lentil',\n",
       " 'maize',\n",
       " 'mango',\n",
       " 'mothbeans',\n",
       " 'mungbean',\n",
       " 'muskmelon',\n",
       " 'orange',\n",
       " 'papaya',\n",
       " 'pigeonpeas',\n",
       " 'pomegranate',\n",
       " 'rice',\n",
       " 'watermelon'}"
      ]
     },
     "execution_count": 3,
     "metadata": {},
     "output_type": "execute_result"
    }
   ],
   "source": [
    "from sklearn.model_selection import train_test_split\n",
    "set(df1.label)"
   ]
  },
  {
   "cell_type": "code",
   "execution_count": 4,
   "id": "03df7857",
   "metadata": {},
   "outputs": [
    {
     "data": {
      "text/html": [
       "<div>\n",
       "<style scoped>\n",
       "    .dataframe tbody tr th:only-of-type {\n",
       "        vertical-align: middle;\n",
       "    }\n",
       "\n",
       "    .dataframe tbody tr th {\n",
       "        vertical-align: top;\n",
       "    }\n",
       "\n",
       "    .dataframe thead th {\n",
       "        text-align: right;\n",
       "    }\n",
       "</style>\n",
       "<table border=\"1\" class=\"dataframe\">\n",
       "  <thead>\n",
       "    <tr style=\"text-align: right;\">\n",
       "      <th></th>\n",
       "      <th>N</th>\n",
       "      <th>P</th>\n",
       "      <th>K</th>\n",
       "      <th>temperature</th>\n",
       "      <th>humidity</th>\n",
       "      <th>ph</th>\n",
       "      <th>rainfall</th>\n",
       "      <th>label</th>\n",
       "    </tr>\n",
       "  </thead>\n",
       "  <tbody>\n",
       "    <tr>\n",
       "      <th>1500</th>\n",
       "      <td>24</td>\n",
       "      <td>128</td>\n",
       "      <td>196</td>\n",
       "      <td>22.750888</td>\n",
       "      <td>90.694892</td>\n",
       "      <td>5.521467</td>\n",
       "      <td>110.431786</td>\n",
       "      <td>apple</td>\n",
       "    </tr>\n",
       "    <tr>\n",
       "      <th>1501</th>\n",
       "      <td>7</td>\n",
       "      <td>144</td>\n",
       "      <td>197</td>\n",
       "      <td>23.849401</td>\n",
       "      <td>94.348150</td>\n",
       "      <td>6.133221</td>\n",
       "      <td>114.051249</td>\n",
       "      <td>apple</td>\n",
       "    </tr>\n",
       "    <tr>\n",
       "      <th>1502</th>\n",
       "      <td>14</td>\n",
       "      <td>128</td>\n",
       "      <td>205</td>\n",
       "      <td>22.608010</td>\n",
       "      <td>94.589006</td>\n",
       "      <td>6.226290</td>\n",
       "      <td>116.039659</td>\n",
       "      <td>apple</td>\n",
       "    </tr>\n",
       "    <tr>\n",
       "      <th>1503</th>\n",
       "      <td>8</td>\n",
       "      <td>120</td>\n",
       "      <td>201</td>\n",
       "      <td>21.186674</td>\n",
       "      <td>91.134357</td>\n",
       "      <td>6.321152</td>\n",
       "      <td>122.233323</td>\n",
       "      <td>apple</td>\n",
       "    </tr>\n",
       "    <tr>\n",
       "      <th>1504</th>\n",
       "      <td>20</td>\n",
       "      <td>129</td>\n",
       "      <td>201</td>\n",
       "      <td>23.410447</td>\n",
       "      <td>91.699133</td>\n",
       "      <td>5.587906</td>\n",
       "      <td>116.077793</td>\n",
       "      <td>apple</td>\n",
       "    </tr>\n",
       "  </tbody>\n",
       "</table>\n",
       "</div>"
      ],
      "text/plain": [
       "       N    P    K  temperature   humidity        ph    rainfall  label\n",
       "1500  24  128  196    22.750888  90.694892  5.521467  110.431786  apple\n",
       "1501   7  144  197    23.849401  94.348150  6.133221  114.051249  apple\n",
       "1502  14  128  205    22.608010  94.589006  6.226290  116.039659  apple\n",
       "1503   8  120  201    21.186674  91.134357  6.321152  122.233323  apple\n",
       "1504  20  129  201    23.410447  91.699133  5.587906  116.077793  apple"
      ]
     },
     "execution_count": 4,
     "metadata": {},
     "output_type": "execute_result"
    }
   ],
   "source": [
    "df1[df1.label=='apple'].head()"
   ]
  },
  {
   "cell_type": "code",
   "execution_count": 5,
   "id": "072e12e4",
   "metadata": {},
   "outputs": [
    {
     "data": {
      "image/png": "[encoded data removed]",
      "text/plain": [
       "<Figure size 1800x648 with 1 Axes>"
      ]
     },
     "metadata": {
      "needs_background": "light"
     },
     "output_type": "display_data"
    }
   ],
   "source": [
    "plt.figure(figsize=(25,9))\n",
    "plt.bar(list(set(df1.label)),[list(df1['label']).count(i) for i in set(df1.label)])\n",
    "plt.show()\n",
    "# ALL CLASSES ARE PRESENT IN COMMON"
   ]
  },
  {
   "cell_type": "code",
   "execution_count": 6,
   "id": "3772276e",
   "metadata": {},
   "outputs": [],
   "source": [
    "from sklearn.preprocessing import LabelEncoder"
   ]
  },
  {
   "cell_type": "code",
   "execution_count": 7,
   "id": "0c8bfb2f",
   "metadata": {},
   "outputs": [],
   "source": [
    "le=LabelEncoder()\n",
    "X=df1.drop(inplace=False,columns=['label'])\n",
    "y=df1['label']\n",
    "y=le.fit_transform(y)\n"
   ]
  },
  {
   "cell_type": "code",
   "execution_count": 8,
   "id": "5e70225c",
   "metadata": {},
   "outputs": [
    {
     "data": {
      "text/plain": [
       "N              0\n",
       "P              0\n",
       "K              0\n",
       "temperature    0\n",
       "humidity       0\n",
       "ph             0\n",
       "rainfall       0\n",
       "label          0\n",
       "dtype: int64"
      ]
     },
     "execution_count": 8,
     "metadata": {},
     "output_type": "execute_result"
    }
   ],
   "source": [
    "df1.isnull().sum()"
   ]
  },
  {
   "cell_type": "code",
   "execution_count": 9,
   "id": "6b8f7723",
   "metadata": {},
   "outputs": [
    {
     "data": {
      "text/plain": [
       "array([20, 20, 20, ...,  5,  5,  5])"
      ]
     },
     "execution_count": 9,
     "metadata": {},
     "output_type": "execute_result"
    }
   ],
   "source": [
    "y"
   ]
  },
  {
   "cell_type": "code",
   "execution_count": 10,
   "id": "40b3b3a2",
   "metadata": {},
   "outputs": [
    {
     "name": "stderr",
     "output_type": "stream",
     "text": [
      "C:\\Users\\sutha\\anaconda3\\lib\\site-packages\\xgboost\\compat.py:36: FutureWarning: pandas.Int64Index is deprecated and will be removed from pandas in a future version. Use pandas.Index with the appropriate dtype instead.\n",
      "  from pandas import MultiIndex, Int64Index\n"
     ]
    }
   ],
   "source": [
    "from xgboost import XGBClassifier,XGBRegressor\n",
    "from interpret.glassbox import ExplainableBoostingClassifier,ExplainableBoostingRegressor"
   ]
  },
  {
   "cell_type": "code",
   "execution_count": 11,
   "id": "40f89360",
   "metadata": {},
   "outputs": [],
   "source": [
    "X_train,X_test,y_train,y_test=train_test_split(X,y,test_size=0.2,random_state=42)"
   ]
  },
  {
   "cell_type": "code",
   "execution_count": 12,
   "id": "22ee3780",
   "metadata": {},
   "outputs": [],
   "source": [
    "xgb=XGBClassifier()\n",
    "ebm=ExplainableBoostingClassifier()"
   ]
  },
  {
   "cell_type": "code",
   "execution_count": 13,
   "id": "9f5f034c",
   "metadata": {},
   "outputs": [
    {
     "name": "stderr",
     "output_type": "stream",
     "text": [
      "C:\\Users\\sutha\\anaconda3\\lib\\site-packages\\xgboost\\sklearn.py:1224: UserWarning: The use of label encoder in XGBClassifier is deprecated and will be removed in a future release. To remove this warning, do the following: 1) Pass option use_label_encoder=False when constructing XGBClassifier object; and 2) Encode your labels (y) as integers starting with 0, i.e. 0, 1, 2, ..., [num_class - 1].\n",
      "  warnings.warn(label_encoder_deprecation_msg, UserWarning)\n",
      "C:\\Users\\sutha\\anaconda3\\lib\\site-packages\\xgboost\\data.py:262: FutureWarning: pandas.Int64Index is deprecated and will be removed from pandas in a future version. Use pandas.Index with the appropriate dtype instead.\n",
      "  elif isinstance(data.columns, (pd.Int64Index, pd.RangeIndex)):\n"
     ]
    },
    {
     "name": "stdout",
     "output_type": "stream",
     "text": [
      "[07:06:56] WARNING: C:/Users/Administrator/workspace/xgboost-win64_release_1.5.1/src/learner.cc:1115: Starting in XGBoost 1.3.0, the default evaluation metric used with the objective 'multi:softprob' was changed from 'merror' to 'mlogloss'. Explicitly set eval_metric if you'd like to restore the old behavior.\n"
     ]
    },
    {
     "name": "stderr",
     "output_type": "stream",
     "text": [
      "C:\\Users\\sutha\\anaconda3\\lib\\site-packages\\interpret\\glassbox\\ebm\\ebm.py:568: UserWarning: Detected multiclass problem. Forcing interactions to 0. Multiclass interactions work except for global visualizations, so the line below setting interactions to zero can be disabled if you know what you are doing.\n",
      "  warn(\"Detected multiclass problem. Forcing interactions to 0. Multiclass interactions work except for global visualizations, so the line below setting interactions to zero can be disabled if you know what you are doing.\")\n"
     ]
    },
    {
     "data": {
      "text/plain": [
       "ExplainableBoostingClassifier()"
      ]
     },
     "execution_count": 13,
     "metadata": {},
     "output_type": "execute_result"
    }
   ],
   "source": [
    "xgb.fit(X_train,y_train)\n",
    "ebm.fit(X_train,y_train)"
   ]
  },
  {
   "cell_type": "code",
   "execution_count": 14,
   "id": "2bbcb723",
   "metadata": {},
   "outputs": [
    {
     "name": "stdout",
     "output_type": "stream",
     "text": [
      "XGBoost Classifier prediction accuracy: 0.990909090909091\n",
      "Explainable Boosting Classifier prediction accuracy: 0.9886363636363636\n"
     ]
    }
   ],
   "source": [
    "y_pred=xgb.predict(X_test)\n",
    "from sklearn.metrics import accuracy_score, confusion_matrix\n",
    "\n",
    "print(f\"XGBoost Classifier prediction accuracy: {accuracy_score(y_pred,y_test)}\")\n",
    "y_pred=ebm.predict(X_test)\n",
    "print(f\"Explainable Boosting Classifier prediction accuracy: {accuracy_score(y_pred,y_test)}\")"
   ]
  },
  {
   "cell_type": "code",
   "execution_count": 15,
   "id": "919916c6",
   "metadata": {},
   "outputs": [],
   "source": [
    "from sklearn.ensemble import RandomForestClassifier,RandomForestRegressor"
   ]
  },
  {
   "cell_type": "code",
   "execution_count": 16,
   "id": "195a9bf1",
   "metadata": {},
   "outputs": [
    {
     "name": "stdout",
     "output_type": "stream",
     "text": [
      "Random Forest Classifier prediction accuracy: 0.9931818181818182\n"
     ]
    }
   ],
   "source": [
    "rfc=RandomForestClassifier()\n",
    "rfc.fit(X_train,y_train)\n",
    "y_pred=rfc.predict(X_test)\n",
    "print(f\"Random Forest Classifier prediction accuracy: {accuracy_score(y_pred,y_test)}\")"
   ]
  },
  {
   "cell_type": "markdown",
   "id": "cc84841d",
   "metadata": {},
   "source": [
    "# Agricultural dataset "
   ]
  },
  {
   "cell_type": "code",
   "execution_count": 34,
   "id": "915f11b2",
   "metadata": {},
   "outputs": [],
   "source": [
    "df2=pd.read_csv(\"Indian_agriculture.csv\",parse_dates=['arrival_date'])"
   ]
  },
  {
   "cell_type": "code",
   "execution_count": 35,
   "id": "c9ba3c23",
   "metadata": {},
   "outputs": [
    {
     "name": "stdout",
     "output_type": "stream",
     "text": [
      "<class 'pandas.core.frame.DataFrame'>\n",
      "RangeIndex: 2238 entries, 0 to 2237\n",
      "Data columns (total 9 columns):\n",
      " #   Column        Non-Null Count  Dtype         \n",
      "---  ------        --------------  -----         \n",
      " 0   state         2238 non-null   object        \n",
      " 1   district      2238 non-null   object        \n",
      " 2   market        2238 non-null   object        \n",
      " 3   commodity     2238 non-null   object        \n",
      " 4   label         2238 non-null   object        \n",
      " 5   arrival_date  2238 non-null   datetime64[ns]\n",
      " 6   min_price     2238 non-null   int64         \n",
      " 7   max_price     2238 non-null   int64         \n",
      " 8   modal_price   2238 non-null   int64         \n",
      "dtypes: datetime64[ns](1), int64(3), object(5)\n",
      "memory usage: 157.5+ KB\n"
     ]
    }
   ],
   "source": [
    "df2.info()"
   ]
  },
  {
   "cell_type": "code",
   "execution_count": 46,
   "id": "b5a59282",
   "metadata": {},
   "outputs": [
    {
     "name": "stdout",
     "output_type": "stream",
     "text": [
      "      state  district  commodity  Year  Month  Day\n",
      "0         0       153          0  2019      4    3\n",
      "1         0       153         10  2019      4    3\n",
      "2         0       153         18  2019      4    3\n",
      "3         0       153         19  2019      4    3\n",
      "4         0       153         22  2019      4    3\n",
      "...     ...       ...        ...   ...    ...  ...\n",
      "2233     25       167        118  2019      4    3\n",
      "2234     25       167        123  2019      4    3\n",
      "2235     25       167         74  2019      4    3\n",
      "2236     25       167        123  2019      4    3\n",
      "2237     25       167        152  2019      4    3\n",
      "\n",
      "[2238 rows x 6 columns]\n",
      "y0 results:\n",
      "ExplainableBoostingRegressor()\n",
      "0.5919004876778682\n",
      "RandomForestRegressor()\n",
      "0.5657909321057213\n"
     ]
    },
    {
     "name": "stderr",
     "output_type": "stream",
     "text": [
      "C:\\Users\\sutha\\anaconda3\\lib\\site-packages\\xgboost\\data.py:262: FutureWarning: pandas.Int64Index is deprecated and will be removed from pandas in a future version. Use pandas.Index with the appropriate dtype instead.\n",
      "  elif isinstance(data.columns, (pd.Int64Index, pd.RangeIndex)):\n"
     ]
    },
    {
     "name": "stdout",
     "output_type": "stream",
     "text": [
      "XGBRegressor(base_score=0.5, booster='gbtree', colsample_bylevel=1,\n",
      "             colsample_bynode=1, colsample_bytree=1, enable_categorical=False,\n",
      "             gamma=0, gpu_id=-1, importance_type=None,\n",
      "             interaction_constraints='', learning_rate=0.300000012,\n",
      "             max_delta_step=0, max_depth=6, min_child_weight=1, missing=nan,\n",
      "             monotone_constraints='()', n_estimators=100, n_jobs=8,\n",
      "             num_parallel_tree=1, predictor='auto', random_state=0, reg_alpha=0,\n",
      "             reg_lambda=1, scale_pos_weight=1, subsample=1, tree_method='exact',\n",
      "             validate_parameters=1, verbosity=None)\n",
      "0.5590363039637746\n",
      "y1 results:\n",
      "ExplainableBoostingRegressor()\n",
      "0.5199062303999709\n",
      "RandomForestRegressor()\n",
      "0.5724909443832146\n"
     ]
    },
    {
     "name": "stderr",
     "output_type": "stream",
     "text": [
      "C:\\Users\\sutha\\anaconda3\\lib\\site-packages\\xgboost\\data.py:262: FutureWarning: pandas.Int64Index is deprecated and will be removed from pandas in a future version. Use pandas.Index with the appropriate dtype instead.\n",
      "  elif isinstance(data.columns, (pd.Int64Index, pd.RangeIndex)):\n"
     ]
    },
    {
     "name": "stdout",
     "output_type": "stream",
     "text": [
      "XGBRegressor(base_score=0.5, booster='gbtree', colsample_bylevel=1,\n",
      "             colsample_bynode=1, colsample_bytree=1, enable_categorical=False,\n",
      "             gamma=0, gpu_id=-1, importance_type=None,\n",
      "             interaction_constraints='', learning_rate=0.300000012,\n",
      "             max_delta_step=0, max_depth=6, min_child_weight=1, missing=nan,\n",
      "             monotone_constraints='()', n_estimators=100, n_jobs=8,\n",
      "             num_parallel_tree=1, predictor='auto', random_state=0, reg_alpha=0,\n",
      "             reg_lambda=1, scale_pos_weight=1, subsample=1, tree_method='exact',\n",
      "             validate_parameters=1, verbosity=None)\n",
      "0.5765239806890385\n",
      "y2 results:\n",
      "ExplainableBoostingRegressor()\n",
      "0.4657563630225735\n",
      "RandomForestRegressor()\n",
      "0.5912414068632987\n"
     ]
    },
    {
     "name": "stderr",
     "output_type": "stream",
     "text": [
      "C:\\Users\\sutha\\anaconda3\\lib\\site-packages\\xgboost\\data.py:262: FutureWarning: pandas.Int64Index is deprecated and will be removed from pandas in a future version. Use pandas.Index with the appropriate dtype instead.\n",
      "  elif isinstance(data.columns, (pd.Int64Index, pd.RangeIndex)):\n"
     ]
    },
    {
     "name": "stdout",
     "output_type": "stream",
     "text": [
      "XGBRegressor(base_score=0.5, booster='gbtree', colsample_bylevel=1,\n",
      "             colsample_bynode=1, colsample_bytree=1, enable_categorical=False,\n",
      "             gamma=0, gpu_id=-1, importance_type=None,\n",
      "             interaction_constraints='', learning_rate=0.300000012,\n",
      "             max_delta_step=0, max_depth=6, min_child_weight=1, missing=nan,\n",
      "             monotone_constraints='()', n_estimators=100, n_jobs=8,\n",
      "             num_parallel_tree=1, predictor='auto', random_state=0, reg_alpha=0,\n",
      "             reg_lambda=1, scale_pos_weight=1, subsample=1, tree_method='exact',\n",
      "             validate_parameters=1, verbosity=None)\n",
      "0.5816416886816616\n"
     ]
    }
   ],
   "source": [
    "X=df2.drop(columns=['label'])\n",
    "X=X.iloc[:,:5]\n",
    "X.drop(columns=['market'],inplace=True)\n",
    "y=[df2.min_price,df2.max_price,df2.modal_price]\n",
    "\n",
    "le_df2=LabelEncoder()\n",
    "X['state']=le_df2.fit_transform(X['state'])\n",
    "X['district']=le_df2.fit_transform(X['district'])\n",
    "X['commodity']=le_df2.fit_transform(X['commodity'])\n",
    "X['Year'] = X['arrival_date'].apply(lambda time: time.year)\n",
    "X['Month'] = X['arrival_date'].apply(lambda time: time.month)\n",
    "X['Day'] = X['arrival_date'].apply(lambda time: time.day)\n",
    "X.drop([\"arrival_date\"],axis=1,inplace=True)\n",
    "print(X)\n",
    "\n",
    "best_models=[]\n",
    "for i in range(len(y)):\n",
    "    models=[ExplainableBoostingRegressor(),RandomForestRegressor(),XGBRegressor()]\n",
    "    X_train,X_test,y_train,y_test=train_test_split(X,y[i],test_size=0.2,random_state=42)\n",
    "    print(f'y{i} results:')\n",
    "    for j in range(len(models)):\n",
    "        models[j].fit(X_train,y_train)\n",
    "        print(models[j])\n",
    "        score=r2_score(y_test,models[j].predict(X_test))\n",
    "        print(score)\n",
    "        if j==0 or score>max_acc:\n",
    "            best=models[j]\n",
    "            max_acc=score \n",
    "            "
   ]
  },
  {
   "cell_type": "code",
   "execution_count": 20,
   "id": "ebbbb420",
   "metadata": {},
   "outputs": [
    {
     "name": "stdout",
     "output_type": "stream",
     "text": [
      "Banana\n",
      "Rice\n",
      "Papaya\n",
      "Orange\n",
      "Jute\n",
      "Cotton\n",
      "Apple\n",
      "Coconut\n",
      "Mango\n",
      "Pomegranate\n",
      "Grapes\n",
      "Maize\n"
     ]
    }
   ],
   "source": [
    "## looking at crops that are common in df2 and df1\n",
    "for i in set(df2.commodity):\n",
    "    if i.lower() in set(df1.label):\n",
    "        print(i)"
   ]
  },
  {
   "cell_type": "markdown",
   "id": "194d2679",
   "metadata": {},
   "source": [
    "# Common types of soil in India\n",
    "\n",
    "** according to https://currentaffairs.adda247.com/major-soil-types-of-india-map/ **\n",
    "1. Alluvial soil - maize, rice, pulses\n",
    "2. Black soil - cotton\n",
    "3. Peaty Soil - \n",
    "4. Saline and alkaline soil - infertile\n",
    "5. Red soil\n",
    "6. Desert soil\n",
    "7. Laterite soil -coconut, coffee, cashew nuts, and rice\n",
    "8. Mountain soil"
   ]
  },
  {
   "cell_type": "code",
   "execution_count": 21,
   "id": "6dfab4ea",
   "metadata": {},
   "outputs": [
    {
     "name": "stdout",
     "output_type": "stream",
     "text": [
      "SpearmanrResult(correlation=0.011411146247036836, pvalue=0.5926889755760951)\n",
      "SpearmanrResult(correlation=-0.032456774096165084, pvalue=0.12803579560964418)\n",
      "SpearmanrResult(correlation=0.06990320344875078, pvalue=0.0010347593510654286)\n",
      "SpearmanrResult(correlation=-0.1512802682960735, pvalue=9.8399168859438e-13)\n"
     ]
    }
   ],
   "source": [
    "from scipy.stats import spearmanr\n",
    "print(spearmanr(df1.rainfall,df1.N))\n",
    "print(spearmanr(df1.rainfall,df1.P))\n",
    "print(spearmanr(df1.rainfall,df1.K))\n",
    "print(spearmanr(df1.rainfall,df1.ph))"
   ]
  },
  {
   "cell_type": "markdown",
   "id": "cbc4ac8b",
   "metadata": {},
   "source": [
    "## Weather prediction\n",
    "\n",
    "dataset used: https://www.kaggle.com/datasets/saisaran2/rainfall-data-from-1901-to-2017-for-india"
   ]
  },
  {
   "cell_type": "code",
   "execution_count": 22,
   "id": "43337d15",
   "metadata": {},
   "outputs": [],
   "source": [
    "df3=pd.read_csv(\"Rainfall_Data_LL.csv\")"
   ]
  },
  {
   "cell_type": "code",
   "execution_count": 23,
   "id": "62d40988",
   "metadata": {},
   "outputs": [
    {
     "data": {
      "text/html": [
       "<div>\n",
       "<style scoped>\n",
       "    .dataframe tbody tr th:only-of-type {\n",
       "        vertical-align: middle;\n",
       "    }\n",
       "\n",
       "    .dataframe tbody tr th {\n",
       "        vertical-align: top;\n",
       "    }\n",
       "\n",
       "    .dataframe thead th {\n",
       "        text-align: right;\n",
       "    }\n",
       "</style>\n",
       "<table border=\"1\" class=\"dataframe\">\n",
       "  <thead>\n",
       "    <tr style=\"text-align: right;\">\n",
       "      <th></th>\n",
       "      <th>SUBDIVISION</th>\n",
       "      <th>YEAR</th>\n",
       "      <th>JAN</th>\n",
       "      <th>FEB</th>\n",
       "      <th>MAR</th>\n",
       "      <th>APR</th>\n",
       "      <th>MAY</th>\n",
       "      <th>JUN</th>\n",
       "      <th>JUL</th>\n",
       "      <th>AUG</th>\n",
       "      <th>...</th>\n",
       "      <th>OCT</th>\n",
       "      <th>NOV</th>\n",
       "      <th>DEC</th>\n",
       "      <th>ANNUAL</th>\n",
       "      <th>Jan-Feb</th>\n",
       "      <th>Mar-May</th>\n",
       "      <th>June-September</th>\n",
       "      <th>Oct-Dec</th>\n",
       "      <th>Latitude</th>\n",
       "      <th>Longitude</th>\n",
       "    </tr>\n",
       "  </thead>\n",
       "  <tbody>\n",
       "    <tr>\n",
       "      <th>0</th>\n",
       "      <td>Andaman &amp; Nicobar Islands</td>\n",
       "      <td>1901</td>\n",
       "      <td>49.2</td>\n",
       "      <td>87.1</td>\n",
       "      <td>29.2</td>\n",
       "      <td>2.3</td>\n",
       "      <td>528.8</td>\n",
       "      <td>517.5</td>\n",
       "      <td>365.1</td>\n",
       "      <td>481.1</td>\n",
       "      <td>...</td>\n",
       "      <td>388.5</td>\n",
       "      <td>558.2</td>\n",
       "      <td>33.6</td>\n",
       "      <td>3373.2</td>\n",
       "      <td>136.3</td>\n",
       "      <td>560.3</td>\n",
       "      <td>1696.3</td>\n",
       "      <td>980.3</td>\n",
       "      <td>12.61124</td>\n",
       "      <td>92.83165</td>\n",
       "    </tr>\n",
       "    <tr>\n",
       "      <th>1</th>\n",
       "      <td>Andaman &amp; Nicobar Islands</td>\n",
       "      <td>1902</td>\n",
       "      <td>0.0</td>\n",
       "      <td>159.8</td>\n",
       "      <td>12.2</td>\n",
       "      <td>0.0</td>\n",
       "      <td>446.1</td>\n",
       "      <td>537.1</td>\n",
       "      <td>228.9</td>\n",
       "      <td>753.7</td>\n",
       "      <td>...</td>\n",
       "      <td>197.2</td>\n",
       "      <td>359.0</td>\n",
       "      <td>160.5</td>\n",
       "      <td>3520.7</td>\n",
       "      <td>159.8</td>\n",
       "      <td>458.3</td>\n",
       "      <td>2185.9</td>\n",
       "      <td>716.7</td>\n",
       "      <td>12.61124</td>\n",
       "      <td>92.83165</td>\n",
       "    </tr>\n",
       "    <tr>\n",
       "      <th>2</th>\n",
       "      <td>Andaman &amp; Nicobar Islands</td>\n",
       "      <td>1903</td>\n",
       "      <td>12.7</td>\n",
       "      <td>144.0</td>\n",
       "      <td>0.0</td>\n",
       "      <td>1.0</td>\n",
       "      <td>235.1</td>\n",
       "      <td>479.9</td>\n",
       "      <td>728.4</td>\n",
       "      <td>326.7</td>\n",
       "      <td>...</td>\n",
       "      <td>181.2</td>\n",
       "      <td>284.4</td>\n",
       "      <td>225.0</td>\n",
       "      <td>2957.4</td>\n",
       "      <td>156.7</td>\n",
       "      <td>236.1</td>\n",
       "      <td>1874.0</td>\n",
       "      <td>690.6</td>\n",
       "      <td>12.61124</td>\n",
       "      <td>92.83165</td>\n",
       "    </tr>\n",
       "    <tr>\n",
       "      <th>3</th>\n",
       "      <td>Andaman &amp; Nicobar Islands</td>\n",
       "      <td>1904</td>\n",
       "      <td>9.4</td>\n",
       "      <td>14.7</td>\n",
       "      <td>0.0</td>\n",
       "      <td>202.4</td>\n",
       "      <td>304.5</td>\n",
       "      <td>495.1</td>\n",
       "      <td>502.0</td>\n",
       "      <td>160.1</td>\n",
       "      <td>...</td>\n",
       "      <td>222.2</td>\n",
       "      <td>308.7</td>\n",
       "      <td>40.1</td>\n",
       "      <td>3079.6</td>\n",
       "      <td>24.1</td>\n",
       "      <td>506.9</td>\n",
       "      <td>1977.6</td>\n",
       "      <td>571.0</td>\n",
       "      <td>12.61124</td>\n",
       "      <td>92.83165</td>\n",
       "    </tr>\n",
       "    <tr>\n",
       "      <th>4</th>\n",
       "      <td>Andaman &amp; Nicobar Islands</td>\n",
       "      <td>1905</td>\n",
       "      <td>1.3</td>\n",
       "      <td>0.0</td>\n",
       "      <td>3.3</td>\n",
       "      <td>26.9</td>\n",
       "      <td>279.5</td>\n",
       "      <td>628.7</td>\n",
       "      <td>368.7</td>\n",
       "      <td>330.5</td>\n",
       "      <td>...</td>\n",
       "      <td>260.7</td>\n",
       "      <td>25.4</td>\n",
       "      <td>344.7</td>\n",
       "      <td>2566.7</td>\n",
       "      <td>1.3</td>\n",
       "      <td>309.7</td>\n",
       "      <td>1624.9</td>\n",
       "      <td>630.8</td>\n",
       "      <td>12.61124</td>\n",
       "      <td>92.83165</td>\n",
       "    </tr>\n",
       "  </tbody>\n",
       "</table>\n",
       "<p>5 rows × 21 columns</p>\n",
       "</div>"
      ],
      "text/plain": [
       "                 SUBDIVISION  YEAR   JAN    FEB   MAR    APR    MAY    JUN  \\\n",
       "0  Andaman & Nicobar Islands  1901  49.2   87.1  29.2    2.3  528.8  517.5   \n",
       "1  Andaman & Nicobar Islands  1902   0.0  159.8  12.2    0.0  446.1  537.1   \n",
       "2  Andaman & Nicobar Islands  1903  12.7  144.0   0.0    1.0  235.1  479.9   \n",
       "3  Andaman & Nicobar Islands  1904   9.4   14.7   0.0  202.4  304.5  495.1   \n",
       "4  Andaman & Nicobar Islands  1905   1.3    0.0   3.3   26.9  279.5  628.7   \n",
       "\n",
       "     JUL    AUG  ...    OCT    NOV    DEC  ANNUAL  Jan-Feb  Mar-May  \\\n",
       "0  365.1  481.1  ...  388.5  558.2   33.6  3373.2    136.3    560.3   \n",
       "1  228.9  753.7  ...  197.2  359.0  160.5  3520.7    159.8    458.3   \n",
       "2  728.4  326.7  ...  181.2  284.4  225.0  2957.4    156.7    236.1   \n",
       "3  502.0  160.1  ...  222.2  308.7   40.1  3079.6     24.1    506.9   \n",
       "4  368.7  330.5  ...  260.7   25.4  344.7  2566.7      1.3    309.7   \n",
       "\n",
       "   June-September  Oct-Dec  Latitude  Longitude  \n",
       "0          1696.3    980.3  12.61124   92.83165  \n",
       "1          2185.9    716.7  12.61124   92.83165  \n",
       "2          1874.0    690.6  12.61124   92.83165  \n",
       "3          1977.6    571.0  12.61124   92.83165  \n",
       "4          1624.9    630.8  12.61124   92.83165  \n",
       "\n",
       "[5 rows x 21 columns]"
      ]
     },
     "execution_count": 23,
     "metadata": {},
     "output_type": "execute_result"
    }
   ],
   "source": [
    "df3.drop(columns=[\"Name\"],inplace=True)\n",
    "df3.head()"
   ]
  },
  {
   "cell_type": "code",
   "execution_count": 24,
   "id": "f8389654",
   "metadata": {},
   "outputs": [
    {
     "data": {
      "text/html": [
       "<div>\n",
       "<style scoped>\n",
       "    .dataframe tbody tr th:only-of-type {\n",
       "        vertical-align: middle;\n",
       "    }\n",
       "\n",
       "    .dataframe tbody tr th {\n",
       "        vertical-align: top;\n",
       "    }\n",
       "\n",
       "    .dataframe thead th {\n",
       "        text-align: right;\n",
       "    }\n",
       "</style>\n",
       "<table border=\"1\" class=\"dataframe\">\n",
       "  <thead>\n",
       "    <tr style=\"text-align: right;\">\n",
       "      <th></th>\n",
       "      <th>SUBDIVISION</th>\n",
       "      <th>YEAR</th>\n",
       "    </tr>\n",
       "  </thead>\n",
       "  <tbody>\n",
       "    <tr>\n",
       "      <th>0</th>\n",
       "      <td>Andaman &amp; Nicobar Islands</td>\n",
       "      <td>1901</td>\n",
       "    </tr>\n",
       "    <tr>\n",
       "      <th>1</th>\n",
       "      <td>Andaman &amp; Nicobar Islands</td>\n",
       "      <td>1902</td>\n",
       "    </tr>\n",
       "    <tr>\n",
       "      <th>2</th>\n",
       "      <td>Andaman &amp; Nicobar Islands</td>\n",
       "      <td>1903</td>\n",
       "    </tr>\n",
       "    <tr>\n",
       "      <th>3</th>\n",
       "      <td>Andaman &amp; Nicobar Islands</td>\n",
       "      <td>1904</td>\n",
       "    </tr>\n",
       "    <tr>\n",
       "      <th>4</th>\n",
       "      <td>Andaman &amp; Nicobar Islands</td>\n",
       "      <td>1905</td>\n",
       "    </tr>\n",
       "    <tr>\n",
       "      <th>...</th>\n",
       "      <td>...</td>\n",
       "      <td>...</td>\n",
       "    </tr>\n",
       "    <tr>\n",
       "      <th>4182</th>\n",
       "      <td>Lakshadweep</td>\n",
       "      <td>2012</td>\n",
       "    </tr>\n",
       "    <tr>\n",
       "      <th>4183</th>\n",
       "      <td>Lakshadweep</td>\n",
       "      <td>2013</td>\n",
       "    </tr>\n",
       "    <tr>\n",
       "      <th>4184</th>\n",
       "      <td>Lakshadweep</td>\n",
       "      <td>2014</td>\n",
       "    </tr>\n",
       "    <tr>\n",
       "      <th>4185</th>\n",
       "      <td>Lakshadweep</td>\n",
       "      <td>2015</td>\n",
       "    </tr>\n",
       "    <tr>\n",
       "      <th>4186</th>\n",
       "      <td>Lakshadweep</td>\n",
       "      <td>2016</td>\n",
       "    </tr>\n",
       "  </tbody>\n",
       "</table>\n",
       "<p>4187 rows × 2 columns</p>\n",
       "</div>"
      ],
      "text/plain": [
       "                    SUBDIVISION  YEAR\n",
       "0     Andaman & Nicobar Islands  1901\n",
       "1     Andaman & Nicobar Islands  1902\n",
       "2     Andaman & Nicobar Islands  1903\n",
       "3     Andaman & Nicobar Islands  1904\n",
       "4     Andaman & Nicobar Islands  1905\n",
       "...                         ...   ...\n",
       "4182                Lakshadweep  2012\n",
       "4183                Lakshadweep  2013\n",
       "4184                Lakshadweep  2014\n",
       "4185                Lakshadweep  2015\n",
       "4186                Lakshadweep  2016\n",
       "\n",
       "[4187 rows x 2 columns]"
      ]
     },
     "execution_count": 24,
     "metadata": {},
     "output_type": "execute_result"
    }
   ],
   "source": [
    "X=df3.iloc[:,:2]\n",
    "X"
   ]
  },
  {
   "cell_type": "code",
   "execution_count": 25,
   "id": "0ed653e4",
   "metadata": {},
   "outputs": [],
   "source": [
    "y=df3.ANNUAL"
   ]
  },
  {
   "cell_type": "code",
   "execution_count": 26,
   "id": "d4f6840a",
   "metadata": {},
   "outputs": [],
   "source": [
    "le_state=LabelEncoder()\n",
    "X['SUBDIVISION']=le_state.fit_transform(X['SUBDIVISION'])"
   ]
  },
  {
   "cell_type": "code",
   "execution_count": 27,
   "id": "d3464bcd",
   "metadata": {},
   "outputs": [
    {
     "data": {
      "text/plain": [
       "RandomForestRegressor()"
      ]
     },
     "execution_count": 27,
     "metadata": {},
     "output_type": "execute_result"
    }
   ],
   "source": [
    "X_train,X_test,y_train,y_test=train_test_split(X,y,test_size=0.2,random_state=42)\n",
    "rfr=RandomForestRegressor()\n",
    "rfr.fit(X_train,y_train)"
   ]
  },
  {
   "cell_type": "code",
   "execution_count": 28,
   "id": "6d19e49e",
   "metadata": {},
   "outputs": [],
   "source": [
    "y_pred=rfr.predict(X_test)"
   ]
  },
  {
   "cell_type": "code",
   "execution_count": 29,
   "id": "7380e8e1",
   "metadata": {},
   "outputs": [
    {
     "data": {
      "text/plain": [
       "0.8728724600592925"
      ]
     },
     "execution_count": 29,
     "metadata": {},
     "output_type": "execute_result"
    }
   ],
   "source": [
    "from sklearn.metrics import r2_score\n",
    "\n",
    "r2_score(y_test,y_pred)"
   ]
  },
  {
   "cell_type": "code",
   "execution_count": 30,
   "id": "97daad8f",
   "metadata": {},
   "outputs": [
    {
     "name": "stderr",
     "output_type": "stream",
     "text": [
      "C:\\Users\\sutha\\anaconda3\\lib\\site-packages\\xgboost\\data.py:262: FutureWarning: pandas.Int64Index is deprecated and will be removed from pandas in a future version. Use pandas.Index with the appropriate dtype instead.\n",
      "  elif isinstance(data.columns, (pd.Int64Index, pd.RangeIndex)):\n"
     ]
    },
    {
     "data": {
      "text/plain": [
       "0.8968687929408511"
      ]
     },
     "execution_count": 30,
     "metadata": {},
     "output_type": "execute_result"
    }
   ],
   "source": [
    "xgbr=XGBRegressor()\n",
    "xgbr.fit(X_train,y_train)\n",
    "y_pred=xgbr.predict(X_test)\n",
    "r2_score(y_test,y_pred)"
   ]
  },
  {
   "cell_type": "code",
   "execution_count": 31,
   "id": "c000d41e",
   "metadata": {},
   "outputs": [
    {
     "data": {
      "text/plain": [
       "0.8895842897947297"
      ]
     },
     "execution_count": 31,
     "metadata": {},
     "output_type": "execute_result"
    }
   ],
   "source": [
    "ebr=ExplainableBoostingRegressor()\n",
    "ebr.fit(X_train,y_train)\n",
    "y_pred=ebr.predict(X_test)\n",
    "r2_score(y_test,y_pred)"
   ]
  }
 ],
 "metadata": {
  "kernelspec": {
   "display_name": "Python 3 (ipykernel)",
   "language": "python",
   "name": "python3"
  },
  "language_info": {
   "codemirror_mode": {
    "name": "ipython",
    "version": 3
   },
   "file_extension": ".py",
   "mimetype": "text/x-python",
   "name": "python",
   "nbconvert_exporter": "python",
   "pygments_lexer": "ipython3",
   "version": "3.9.7"
  }
 },
 "nbformat": 4,
 "nbformat_minor": 5
}
